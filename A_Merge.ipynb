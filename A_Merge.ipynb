{
 "cells": [
  {
   "cell_type": "code",
   "execution_count": 1,
   "metadata": {},
   "outputs": [],
   "source": [
    "import csv\n",
    "import json\n",
    "import os\n",
    "import glob\n",
    "import shutil\n",
    "import pickle as pkl\n",
    "import pandas as pd\n",
    "import numpy as np\n",
    "import tensorflow as tf\n",
    "from tqdm import tqdm, trange\n",
    "from sklearn.preprocessing import LabelEncoder, StandardScaler\n",
    "from pathlib import Path\n",
    "import dask.dataframe as dd"
   ]
  },
  {
   "cell_type": "code",
   "execution_count": 6,
   "metadata": {},
   "outputs": [
    {
     "name": "stdout",
     "output_type": "stream",
     "text": [
      "GPU가 사용 가능합니다.\n",
      "사용 가능한 GPU 목록: [PhysicalDevice(name='/physical_device:GPU:0', device_type='GPU')]\n"
     ]
    }
   ],
   "source": [
    "# GPU 사용 가능 여부 확인\n",
    "if tf.config.list_physical_devices('GPU'):\n",
    "    print(\"GPU가 사용 가능합니다.\")\n",
    "    print(\"사용 가능한 GPU 목록:\", tf.config.list_physical_devices('GPU'))\n",
    "else:\n",
    "    print(\"GPU를 사용할 수 없습니다.\")"
   ]
  },
  {
   "cell_type": "markdown",
   "metadata": {},
   "source": [
    "# **JSON Merged**"
   ]
  },
  {
   "cell_type": "code",
   "execution_count": null,
   "metadata": {},
   "outputs": [],
   "source": [
    "# 데이터셋 경로\n",
    "DATA_PATH = r\"F:\\Datasets\""
   ]
  },
  {
   "cell_type": "code",
   "execution_count": 10,
   "metadata": {},
   "outputs": [
    {
     "name": "stdout",
     "output_type": "stream",
     "text": [
      "총 4613074개의 JSON 파일을 발견했습니다.\n"
     ]
    }
   ],
   "source": [
    "# 모든 JSON 파일 경로 수집 (Other 폴더 제외)\n",
    "json_files = []\n",
    "for root, dirs, files in os.walk(DATA_PATH):\n",
    "    # \"Other\" 폴더를 제외\n",
    "    dirs[:] = [d for d in dirs if d != \"Other\"]\n",
    "    for file in files:\n",
    "        if file.endswith(\".json\"):\n",
    "            json_files.append(os.path.join(root, file))\n",
    "\n",
    "print(f\"총 {len(json_files)}개의 JSON 파일을 발견했습니다.\")"
   ]
  },
  {
   "cell_type": "code",
   "execution_count": 24,
   "metadata": {},
   "outputs": [],
   "source": [
    "def merge_csv_and_json(data_path, output_path, chunk_size=30000):\n",
    "    \"\"\"\n",
    "    Training 및 Validation 폴더를 순회하며 JSON과 CSV 파일을 병합하여 새로운 CSV 파일 생성\n",
    "    데이터를 chunk_size 단위로 나눠서 저장\n",
    "\n",
    "    Parameters:\n",
    "    - data_path (str): Datasets 루트 경로 (Training 및 Validation 폴더 포함)\n",
    "    - output_path (str): 병합 결과를 저장할 디렉토리 경로\n",
    "    - chunk_size (int): 한 번에 저장할 데이터 행 수\n",
    "\n",
    "    Returns:\n",
    "    - None\n",
    "    \"\"\"\n",
    "    # JSON 및 CSV 파일 수집\n",
    "    json_files = {}\n",
    "    csv_files = {}\n",
    "\n",
    "    for root, dirs, files in os.walk(data_path):\n",
    "        # \"Other\" 폴더 제외\n",
    "        dirs[:] = [d for d in dirs if d != \"Other\"]\n",
    "        for file in files:\n",
    "            if file.endswith(\".json\"):\n",
    "                file_key = os.path.basename(file).replace('.json', '')\n",
    "                json_files[file_key] = os.path.join(root, file)\n",
    "            elif file.endswith(\".csv\"):\n",
    "                file_key = os.path.basename(file).replace('.csv', '')\n",
    "                csv_files[file_key] = os.path.join(root, file)\n",
    "\n",
    "    # 공통 파일 이름 확인\n",
    "    common_files = set(json_files.keys()) & set(csv_files.keys())\n",
    "    print(f\"Training 및 Validation 폴더에서 매칭된 파일 개수: {len(common_files)}\")\n",
    "\n",
    "    # 병합 결과 저장\n",
    "    combined_data = []\n",
    "    \n",
    "    # 병합된 파일 개수 기준으로 저장\n",
    "    file_count = 0\n",
    "    chunk_index = 1\n",
    "\n",
    "    for file_name in tqdm(common_files, desc=\"Merging CSV and JSON files\"):\n",
    "        try:\n",
    "            # JSON 파일 읽기\n",
    "            with open(json_files[file_name], 'r', encoding='utf-8') as f:\n",
    "                json_data = json.load(f)\n",
    "\n",
    "            # JSON 데이터를 평탄화\n",
    "            json_df = pd.json_normalize(json_data)\n",
    "\n",
    "            # CSV 파일 읽기\n",
    "            csv_df = pd.read_csv(csv_files[file_name])\n",
    "\n",
    "            # JSON 데이터를 CSV 행 개수에 맞게 복사\n",
    "            json_df_repeated = pd.concat([json_df] * len(csv_df), ignore_index=True)\n",
    "\n",
    "            # JSON 데이터와 CSV 데이터 병합\n",
    "            merged_df = pd.concat([json_df_repeated, csv_df.reset_index(drop=True)], axis=1)\n",
    "            combined_data.append(merged_df)\n",
    "            file_count += 1\n",
    "\n",
    "            # 파일 개수 기준으로 저장\n",
    "            if file_count >= chunk_size:\n",
    "                final_df = pd.concat(combined_data, ignore_index=True)\n",
    "                output_file = os.path.join(output_path, f\"merged_data_{chunk_index:02d}.csv\")\n",
    "                final_df.to_csv(output_file, index=False)\n",
    "                print(f\"병합된 데이터를 저장했습니다: {output_file}\")\n",
    "                combined_data = []\n",
    "                file_count = 0\n",
    "                chunk_index += 1\n",
    "\n",
    "        except Exception as e:\n",
    "            print(f\"Error processing file {file_name}: {e}\")\n",
    "\n",
    "    # 남은 데이터 저장\n",
    "    if combined_data:\n",
    "        final_df = pd.concat(combined_data, ignore_index=True)\n",
    "        output_file = os.path.join(output_path, f\"merged_data_{chunk_index:02d}.csv\")\n",
    "        final_df.to_csv(output_file, index=False)\n",
    "        print(f\"병합된 데이터를 저장했습니다: {output_file}\")\n",
    "\n",
    "    print(\"모든 병합 작업이 완료되었습니다.\")\n"
   ]
  },
  {
   "cell_type": "code",
   "execution_count": 25,
   "metadata": {},
   "outputs": [
    {
     "name": "stdout",
     "output_type": "stream",
     "text": [
      "Training 및 Validation 폴더에서 매칭된 파일 개수: 4613074\n"
     ]
    },
    {
     "name": "stderr",
     "output_type": "stream",
     "text": [
      "Merging CSV and JSON files:   1%|          | 29997/4613074 [04:18<10:27:13, 121.78it/s]"
     ]
    },
    {
     "name": "stdout",
     "output_type": "stream",
     "text": [
      "병합된 데이터를 저장했습니다: D:\\repos\\V2X_Incident_Prediction\\merge\\merged_data_01.csv\n"
     ]
    },
    {
     "name": "stderr",
     "output_type": "stream",
     "text": [
      "Merging CSV and JSON files:   1%|▏         | 59992/4613074 [08:55<9:58:51, 126.72it/s] "
     ]
    },
    {
     "name": "stdout",
     "output_type": "stream",
     "text": [
      "병합된 데이터를 저장했습니다: D:\\repos\\V2X_Incident_Prediction\\merge\\merged_data_02.csv\n"
     ]
    },
    {
     "name": "stderr",
     "output_type": "stream",
     "text": [
      "Merging CSV and JSON files:   2%|▏         | 90025/4613074 [13:20<88:12:46, 14.24it/s] "
     ]
    },
    {
     "name": "stdout",
     "output_type": "stream",
     "text": [
      "병합된 데이터를 저장했습니다: D:\\repos\\V2X_Incident_Prediction\\merge\\merged_data_03.csv\n"
     ]
    },
    {
     "name": "stderr",
     "output_type": "stream",
     "text": [
      "Merging CSV and JSON files:   3%|▎         | 119997/4613074 [17:40<9:49:03, 127.13it/s] "
     ]
    },
    {
     "name": "stdout",
     "output_type": "stream",
     "text": [
      "병합된 데이터를 저장했습니다: D:\\repos\\V2X_Incident_Prediction\\merge\\merged_data_04.csv\n"
     ]
    },
    {
     "name": "stderr",
     "output_type": "stream",
     "text": [
      "Merging CSV and JSON files:   3%|▎         | 150021/4613074 [22:04<88:42:40, 13.97it/s] "
     ]
    },
    {
     "name": "stdout",
     "output_type": "stream",
     "text": [
      "병합된 데이터를 저장했습니다: D:\\repos\\V2X_Incident_Prediction\\merge\\merged_data_05.csv\n"
     ]
    },
    {
     "name": "stderr",
     "output_type": "stream",
     "text": [
      "Merging CSV and JSON files:   4%|▍         | 180011/4613074 [26:25<456:58:37,  2.69it/s]"
     ]
    },
    {
     "name": "stdout",
     "output_type": "stream",
     "text": [
      "병합된 데이터를 저장했습니다: D:\\repos\\V2X_Incident_Prediction\\merge\\merged_data_06.csv\n"
     ]
    },
    {
     "name": "stderr",
     "output_type": "stream",
     "text": [
      "Merging CSV and JSON files:   5%|▍         | 210013/4613074 [30:37<86:56:08, 14.07it/s] "
     ]
    },
    {
     "name": "stdout",
     "output_type": "stream",
     "text": [
      "병합된 데이터를 저장했습니다: D:\\repos\\V2X_Incident_Prediction\\merge\\merged_data_07.csv\n"
     ]
    },
    {
     "name": "stderr",
     "output_type": "stream",
     "text": [
      "Merging CSV and JSON files:   5%|▌         | 240011/4613074 [35:06<449:11:22,  2.70it/s]"
     ]
    },
    {
     "name": "stdout",
     "output_type": "stream",
     "text": [
      "병합된 데이터를 저장했습니다: D:\\repos\\V2X_Incident_Prediction\\merge\\merged_data_08.csv\n"
     ]
    },
    {
     "name": "stderr",
     "output_type": "stream",
     "text": [
      "Merging CSV and JSON files:   6%|▌         | 270015/4613074 [39:24<87:44:49, 13.75it/s] "
     ]
    },
    {
     "name": "stdout",
     "output_type": "stream",
     "text": [
      "병합된 데이터를 저장했습니다: D:\\repos\\V2X_Incident_Prediction\\merge\\merged_data_09.csv\n"
     ]
    },
    {
     "name": "stderr",
     "output_type": "stream",
     "text": [
      "Merging CSV and JSON files:   7%|▋         | 300010/4613074 [43:55<405:55:00,  2.95it/s]"
     ]
    },
    {
     "name": "stdout",
     "output_type": "stream",
     "text": [
      "병합된 데이터를 저장했습니다: D:\\repos\\V2X_Incident_Prediction\\merge\\merged_data_10.csv\n"
     ]
    },
    {
     "name": "stderr",
     "output_type": "stream",
     "text": [
      "Merging CSV and JSON files:   7%|▋         | 330010/4613074 [48:12<121:34:39,  9.79it/s]"
     ]
    },
    {
     "name": "stdout",
     "output_type": "stream",
     "text": [
      "병합된 데이터를 저장했습니다: D:\\repos\\V2X_Incident_Prediction\\merge\\merged_data_11.csv\n"
     ]
    },
    {
     "name": "stderr",
     "output_type": "stream",
     "text": [
      "Merging CSV and JSON files:   8%|▊         | 359992/4613074 [53:12<9:29:17, 124.51it/s] "
     ]
    },
    {
     "name": "stdout",
     "output_type": "stream",
     "text": [
      "병합된 데이터를 저장했습니다: D:\\repos\\V2X_Incident_Prediction\\merge\\merged_data_12.csv\n"
     ]
    },
    {
     "name": "stderr",
     "output_type": "stream",
     "text": [
      "Merging CSV and JSON files:   8%|▊         | 389999/4613074 [57:26<9:39:42, 121.41it/s] "
     ]
    },
    {
     "name": "stdout",
     "output_type": "stream",
     "text": [
      "병합된 데이터를 저장했습니다: D:\\repos\\V2X_Incident_Prediction\\merge\\merged_data_13.csv\n"
     ]
    },
    {
     "name": "stderr",
     "output_type": "stream",
     "text": [
      "Merging CSV and JSON files:   9%|▉         | 420012/4613074 [1:02:08<440:44:45,  2.64it/s]"
     ]
    },
    {
     "name": "stdout",
     "output_type": "stream",
     "text": [
      "병합된 데이터를 저장했습니다: D:\\repos\\V2X_Incident_Prediction\\merge\\merged_data_14.csv\n"
     ]
    },
    {
     "name": "stderr",
     "output_type": "stream",
     "text": [
      "Merging CSV and JSON files:  10%|▉         | 450019/4613074 [1:06:23<87:47:18, 13.17it/s] "
     ]
    },
    {
     "name": "stdout",
     "output_type": "stream",
     "text": [
      "병합된 데이터를 저장했습니다: D:\\repos\\V2X_Incident_Prediction\\merge\\merged_data_15.csv\n"
     ]
    },
    {
     "name": "stderr",
     "output_type": "stream",
     "text": [
      "Merging CSV and JSON files:  10%|█         | 480010/4613074 [1:11:21<393:32:25,  2.92it/s]"
     ]
    },
    {
     "name": "stdout",
     "output_type": "stream",
     "text": [
      "병합된 데이터를 저장했습니다: D:\\repos\\V2X_Incident_Prediction\\merge\\merged_data_16.csv\n"
     ]
    },
    {
     "name": "stderr",
     "output_type": "stream",
     "text": [
      "Merging CSV and JSON files:  11%|█         | 510009/4613074 [1:15:39<126:18:34,  9.02it/s]"
     ]
    },
    {
     "name": "stdout",
     "output_type": "stream",
     "text": [
      "병합된 데이터를 저장했습니다: D:\\repos\\V2X_Incident_Prediction\\merge\\merged_data_17.csv\n"
     ]
    },
    {
     "name": "stderr",
     "output_type": "stream",
     "text": [
      "Merging CSV and JSON files:  12%|█▏        | 540013/4613074 [1:20:08<81:55:46, 13.81it/s] "
     ]
    },
    {
     "name": "stdout",
     "output_type": "stream",
     "text": [
      "병합된 데이터를 저장했습니다: D:\\repos\\V2X_Incident_Prediction\\merge\\merged_data_18.csv\n"
     ]
    },
    {
     "name": "stderr",
     "output_type": "stream",
     "text": [
      "Merging CSV and JSON files:  12%|█▏        | 570010/4613074 [1:24:23<110:15:32, 10.19it/s]"
     ]
    },
    {
     "name": "stdout",
     "output_type": "stream",
     "text": [
      "병합된 데이터를 저장했습니다: D:\\repos\\V2X_Incident_Prediction\\merge\\merged_data_19.csv\n"
     ]
    },
    {
     "name": "stderr",
     "output_type": "stream",
     "text": [
      "Merging CSV and JSON files:  13%|█▎        | 600011/4613074 [1:28:51<81:17:59, 13.71it/s] "
     ]
    },
    {
     "name": "stdout",
     "output_type": "stream",
     "text": [
      "병합된 데이터를 저장했습니다: D:\\repos\\V2X_Incident_Prediction\\merge\\merged_data_20.csv\n"
     ]
    },
    {
     "name": "stderr",
     "output_type": "stream",
     "text": [
      "Merging CSV and JSON files:  14%|█▎        | 630008/4613074 [1:33:20<379:15:05,  2.92it/s]"
     ]
    },
    {
     "name": "stdout",
     "output_type": "stream",
     "text": [
      "병합된 데이터를 저장했습니다: D:\\repos\\V2X_Incident_Prediction\\merge\\merged_data_21.csv\n"
     ]
    },
    {
     "name": "stderr",
     "output_type": "stream",
     "text": [
      "Merging CSV and JSON files:  14%|█▍        | 660017/4613074 [1:37:34<80:02:10, 13.72it/s] "
     ]
    },
    {
     "name": "stdout",
     "output_type": "stream",
     "text": [
      "병합된 데이터를 저장했습니다: D:\\repos\\V2X_Incident_Prediction\\merge\\merged_data_22.csv\n"
     ]
    },
    {
     "name": "stderr",
     "output_type": "stream",
     "text": [
      "Merging CSV and JSON files:  15%|█▍        | 690011/4613074 [1:42:03<328:41:59,  3.32it/s]"
     ]
    },
    {
     "name": "stdout",
     "output_type": "stream",
     "text": [
      "병합된 데이터를 저장했습니다: D:\\repos\\V2X_Incident_Prediction\\merge\\merged_data_23.csv\n"
     ]
    },
    {
     "name": "stderr",
     "output_type": "stream",
     "text": [
      "Merging CSV and JSON files:  16%|█▌        | 720010/4613074 [1:46:34<104:52:31, 10.31it/s]"
     ]
    },
    {
     "name": "stdout",
     "output_type": "stream",
     "text": [
      "병합된 데이터를 저장했습니다: D:\\repos\\V2X_Incident_Prediction\\merge\\merged_data_24.csv\n"
     ]
    },
    {
     "name": "stderr",
     "output_type": "stream",
     "text": [
      "Merging CSV and JSON files:  16%|█▋        | 750010/4613074 [1:51:03<356:41:48,  3.01it/s]"
     ]
    },
    {
     "name": "stdout",
     "output_type": "stream",
     "text": [
      "병합된 데이터를 저장했습니다: D:\\repos\\V2X_Incident_Prediction\\merge\\merged_data_25.csv\n"
     ]
    },
    {
     "name": "stderr",
     "output_type": "stream",
     "text": [
      "Merging CSV and JSON files:  17%|█▋        | 780020/4613074 [1:55:20<86:45:43, 12.27it/s] "
     ]
    },
    {
     "name": "stdout",
     "output_type": "stream",
     "text": [
      "병합된 데이터를 저장했습니다: D:\\repos\\V2X_Incident_Prediction\\merge\\merged_data_26.csv\n"
     ]
    },
    {
     "name": "stderr",
     "output_type": "stream",
     "text": [
      "Merging CSV and JSON files:  18%|█▊        | 810014/4613074 [1:59:51<304:50:31,  3.47it/s]"
     ]
    },
    {
     "name": "stdout",
     "output_type": "stream",
     "text": [
      "병합된 데이터를 저장했습니다: D:\\repos\\V2X_Incident_Prediction\\merge\\merged_data_27.csv\n"
     ]
    },
    {
     "name": "stderr",
     "output_type": "stream",
     "text": [
      "Merging CSV and JSON files:  18%|█▊        | 840009/4613074 [2:04:08<102:52:28, 10.19it/s]"
     ]
    },
    {
     "name": "stdout",
     "output_type": "stream",
     "text": [
      "병합된 데이터를 저장했습니다: D:\\repos\\V2X_Incident_Prediction\\merge\\merged_data_28.csv\n"
     ]
    },
    {
     "name": "stderr",
     "output_type": "stream",
     "text": [
      "Merging CSV and JSON files:  19%|█▉        | 869995/4613074 [2:08:35<9:50:49, 105.59it/s] "
     ]
    },
    {
     "name": "stdout",
     "output_type": "stream",
     "text": [
      "병합된 데이터를 저장했습니다: D:\\repos\\V2X_Incident_Prediction\\merge\\merged_data_29.csv\n"
     ]
    },
    {
     "name": "stderr",
     "output_type": "stream",
     "text": [
      "Merging CSV and JSON files:  20%|█▉        | 900014/4613074 [2:12:54<73:35:26, 14.02it/s] "
     ]
    },
    {
     "name": "stdout",
     "output_type": "stream",
     "text": [
      "병합된 데이터를 저장했습니다: D:\\repos\\V2X_Incident_Prediction\\merge\\merged_data_30.csv\n"
     ]
    },
    {
     "name": "stderr",
     "output_type": "stream",
     "text": [
      "Merging CSV and JSON files:  20%|██        | 930011/4613074 [2:17:24<309:55:46,  3.30it/s]"
     ]
    },
    {
     "name": "stdout",
     "output_type": "stream",
     "text": [
      "병합된 데이터를 저장했습니다: D:\\repos\\V2X_Incident_Prediction\\merge\\merged_data_31.csv\n"
     ]
    },
    {
     "name": "stderr",
     "output_type": "stream",
     "text": [
      "Merging CSV and JSON files:  21%|██        | 960016/4613074 [2:21:48<72:45:20, 13.95it/s] "
     ]
    },
    {
     "name": "stdout",
     "output_type": "stream",
     "text": [
      "병합된 데이터를 저장했습니다: D:\\repos\\V2X_Incident_Prediction\\merge\\merged_data_32.csv\n"
     ]
    },
    {
     "name": "stderr",
     "output_type": "stream",
     "text": [
      "Merging CSV and JSON files:  21%|██▏       | 990018/4613074 [2:26:18<69:17:51, 14.52it/s] "
     ]
    },
    {
     "name": "stdout",
     "output_type": "stream",
     "text": [
      "병합된 데이터를 저장했습니다: D:\\repos\\V2X_Incident_Prediction\\merge\\merged_data_33.csv\n"
     ]
    },
    {
     "name": "stderr",
     "output_type": "stream",
     "text": [
      "Merging CSV and JSON files:  22%|██▏       | 1020013/4613074 [2:30:48<315:05:41,  3.17it/s]"
     ]
    },
    {
     "name": "stdout",
     "output_type": "stream",
     "text": [
      "병합된 데이터를 저장했습니다: D:\\repos\\V2X_Incident_Prediction\\merge\\merged_data_34.csv\n"
     ]
    },
    {
     "name": "stderr",
     "output_type": "stream",
     "text": [
      "Merging CSV and JSON files:  23%|██▎       | 1049989/4613074 [2:35:00<8:31:14, 116.16it/s] "
     ]
    },
    {
     "name": "stdout",
     "output_type": "stream",
     "text": [
      "병합된 데이터를 저장했습니다: D:\\repos\\V2X_Incident_Prediction\\merge\\merged_data_35.csv\n"
     ]
    },
    {
     "name": "stderr",
     "output_type": "stream",
     "text": [
      "Merging CSV and JSON files:  23%|██▎       | 1080011/4613074 [2:39:34<300:21:43,  3.27it/s]"
     ]
    },
    {
     "name": "stdout",
     "output_type": "stream",
     "text": [
      "병합된 데이터를 저장했습니다: D:\\repos\\V2X_Incident_Prediction\\merge\\merged_data_36.csv\n"
     ]
    },
    {
     "name": "stderr",
     "output_type": "stream",
     "text": [
      "Merging CSV and JSON files:  24%|██▍       | 1109997/4613074 [2:43:45<8:10:36, 119.00it/s] "
     ]
    },
    {
     "name": "stdout",
     "output_type": "stream",
     "text": [
      "병합된 데이터를 저장했습니다: D:\\repos\\V2X_Incident_Prediction\\merge\\merged_data_37.csv\n"
     ]
    },
    {
     "name": "stderr",
     "output_type": "stream",
     "text": [
      "Merging CSV and JSON files:  25%|██▍       | 1140011/4613074 [2:48:19<364:04:24,  2.65it/s]"
     ]
    },
    {
     "name": "stdout",
     "output_type": "stream",
     "text": [
      "병합된 데이터를 저장했습니다: D:\\repos\\V2X_Incident_Prediction\\merge\\merged_data_38.csv\n"
     ]
    },
    {
     "name": "stderr",
     "output_type": "stream",
     "text": [
      "Merging CSV and JSON files:  25%|██▌       | 1169999/4613074 [2:52:31<7:51:28, 121.71it/s] "
     ]
    },
    {
     "name": "stdout",
     "output_type": "stream",
     "text": [
      "병합된 데이터를 저장했습니다: D:\\repos\\V2X_Incident_Prediction\\merge\\merged_data_39.csv\n"
     ]
    },
    {
     "name": "stderr",
     "output_type": "stream",
     "text": [
      "Merging CSV and JSON files:  26%|██▌       | 1199996/4613074 [2:57:04<8:00:59, 118.27it/s]"
     ]
    },
    {
     "name": "stdout",
     "output_type": "stream",
     "text": [
      "병합된 데이터를 저장했습니다: D:\\repos\\V2X_Incident_Prediction\\merge\\merged_data_40.csv\n"
     ]
    },
    {
     "name": "stderr",
     "output_type": "stream",
     "text": [
      "Merging CSV and JSON files:  27%|██▋       | 1230013/4613074 [3:01:23<69:35:03, 13.51it/s] "
     ]
    },
    {
     "name": "stdout",
     "output_type": "stream",
     "text": [
      "병합된 데이터를 저장했습니다: D:\\repos\\V2X_Incident_Prediction\\merge\\merged_data_41.csv\n"
     ]
    },
    {
     "name": "stderr",
     "output_type": "stream",
     "text": [
      "Merging CSV and JSON files:  27%|██▋       | 1260011/4613074 [3:06:39<350:47:30,  2.66it/s]"
     ]
    },
    {
     "name": "stdout",
     "output_type": "stream",
     "text": [
      "병합된 데이터를 저장했습니다: D:\\repos\\V2X_Incident_Prediction\\merge\\merged_data_42.csv\n"
     ]
    },
    {
     "name": "stderr",
     "output_type": "stream",
     "text": [
      "Merging CSV and JSON files:  28%|██▊       | 1289999/4613074 [3:10:51<7:17:42, 126.53it/s] "
     ]
    },
    {
     "name": "stdout",
     "output_type": "stream",
     "text": [
      "병합된 데이터를 저장했습니다: D:\\repos\\V2X_Incident_Prediction\\merge\\merged_data_43.csv\n"
     ]
    },
    {
     "name": "stderr",
     "output_type": "stream",
     "text": [
      "Merging CSV and JSON files:  29%|██▊       | 1320000/4613074 [3:15:25<470:53:01,  1.94it/s]"
     ]
    },
    {
     "name": "stdout",
     "output_type": "stream",
     "text": [
      "병합된 데이터를 저장했습니다: D:\\repos\\V2X_Incident_Prediction\\merge\\merged_data_44.csv\n"
     ]
    },
    {
     "name": "stderr",
     "output_type": "stream",
     "text": [
      "Merging CSV and JSON files:  29%|██▉       | 1350008/4613074 [3:19:41<87:51:58, 10.32it/s] "
     ]
    },
    {
     "name": "stdout",
     "output_type": "stream",
     "text": [
      "병합된 데이터를 저장했습니다: D:\\repos\\V2X_Incident_Prediction\\merge\\merged_data_45.csv\n"
     ]
    },
    {
     "name": "stderr",
     "output_type": "stream",
     "text": [
      "Merging CSV and JSON files:  30%|██▉       | 1380009/4613074 [3:24:10<329:11:27,  2.73it/s]"
     ]
    },
    {
     "name": "stdout",
     "output_type": "stream",
     "text": [
      "병합된 데이터를 저장했습니다: D:\\repos\\V2X_Incident_Prediction\\merge\\merged_data_46.csv\n"
     ]
    },
    {
     "name": "stderr",
     "output_type": "stream",
     "text": [
      "Merging CSV and JSON files:  31%|███       | 1410017/4613074 [3:28:26<64:52:29, 13.71it/s] "
     ]
    },
    {
     "name": "stdout",
     "output_type": "stream",
     "text": [
      "병합된 데이터를 저장했습니다: D:\\repos\\V2X_Incident_Prediction\\merge\\merged_data_47.csv\n"
     ]
    },
    {
     "name": "stderr",
     "output_type": "stream",
     "text": [
      "Merging CSV and JSON files:  31%|███       | 1440017/4613074 [3:32:55<62:24:09, 14.12it/s] "
     ]
    },
    {
     "name": "stdout",
     "output_type": "stream",
     "text": [
      "병합된 데이터를 저장했습니다: D:\\repos\\V2X_Incident_Prediction\\merge\\merged_data_48.csv\n"
     ]
    },
    {
     "name": "stderr",
     "output_type": "stream",
     "text": [
      "Merging CSV and JSON files:  32%|███▏      | 1470009/4613074 [3:37:11<85:33:17, 10.20it/s]"
     ]
    },
    {
     "name": "stdout",
     "output_type": "stream",
     "text": [
      "병합된 데이터를 저장했습니다: D:\\repos\\V2X_Incident_Prediction\\merge\\merged_data_49.csv\n"
     ]
    },
    {
     "name": "stderr",
     "output_type": "stream",
     "text": [
      "Merging CSV and JSON files:  33%|███▎      | 1500009/4613074 [3:41:48<85:51:22, 10.07it/s] "
     ]
    },
    {
     "name": "stdout",
     "output_type": "stream",
     "text": [
      "병합된 데이터를 저장했습니다: D:\\repos\\V2X_Incident_Prediction\\merge\\merged_data_50.csv\n"
     ]
    },
    {
     "name": "stderr",
     "output_type": "stream",
     "text": [
      "Merging CSV and JSON files:  33%|███▎      | 1530010/4613074 [3:46:19<328:16:40,  2.61it/s]"
     ]
    },
    {
     "name": "stdout",
     "output_type": "stream",
     "text": [
      "병합된 데이터를 저장했습니다: D:\\repos\\V2X_Incident_Prediction\\merge\\merged_data_51.csv\n"
     ]
    },
    {
     "name": "stderr",
     "output_type": "stream",
     "text": [
      "Merging CSV and JSON files:  34%|███▍      | 1559999/4613074 [3:50:31<7:07:38, 118.99it/s] "
     ]
    },
    {
     "name": "stdout",
     "output_type": "stream",
     "text": [
      "병합된 데이터를 저장했습니다: D:\\repos\\V2X_Incident_Prediction\\merge\\merged_data_52.csv\n"
     ]
    },
    {
     "name": "stderr",
     "output_type": "stream",
     "text": [
      "Merging CSV and JSON files:  34%|███▍      | 1590011/4613074 [3:55:05<305:42:39,  2.75it/s]"
     ]
    },
    {
     "name": "stdout",
     "output_type": "stream",
     "text": [
      "병합된 데이터를 저장했습니다: D:\\repos\\V2X_Incident_Prediction\\merge\\merged_data_53.csv\n"
     ]
    },
    {
     "name": "stderr",
     "output_type": "stream",
     "text": [
      "Merging CSV and JSON files:  35%|███▌      | 1619999/4613074 [3:59:18<7:00:12, 118.71it/s] "
     ]
    },
    {
     "name": "stdout",
     "output_type": "stream",
     "text": [
      "병합된 데이터를 저장했습니다: D:\\repos\\V2X_Incident_Prediction\\merge\\merged_data_54.csv\n"
     ]
    },
    {
     "name": "stderr",
     "output_type": "stream",
     "text": [
      "Merging CSV and JSON files:  36%|███▌      | 1650011/4613074 [4:03:52<280:43:56,  2.93it/s]"
     ]
    },
    {
     "name": "stdout",
     "output_type": "stream",
     "text": [
      "병합된 데이터를 저장했습니다: D:\\repos\\V2X_Incident_Prediction\\merge\\merged_data_55.csv\n"
     ]
    },
    {
     "name": "stderr",
     "output_type": "stream",
     "text": [
      "Merging CSV and JSON files:  36%|███▋      | 1679991/4613074 [4:08:04<6:44:08, 120.96it/s] "
     ]
    },
    {
     "name": "stdout",
     "output_type": "stream",
     "text": [
      "병합된 데이터를 저장했습니다: D:\\repos\\V2X_Incident_Prediction\\merge\\merged_data_56.csv\n"
     ]
    },
    {
     "name": "stderr",
     "output_type": "stream",
     "text": [
      "Merging CSV and JSON files:  37%|███▋      | 1710012/4613074 [4:12:38<273:06:20,  2.95it/s]"
     ]
    },
    {
     "name": "stdout",
     "output_type": "stream",
     "text": [
      "병합된 데이터를 저장했습니다: D:\\repos\\V2X_Incident_Prediction\\merge\\merged_data_57.csv\n"
     ]
    },
    {
     "name": "stderr",
     "output_type": "stream",
     "text": [
      "Merging CSV and JSON files:  38%|███▊      | 1739986/4613074 [4:16:49<6:58:56, 114.30it/s] "
     ]
    },
    {
     "name": "stdout",
     "output_type": "stream",
     "text": [
      "병합된 데이터를 저장했습니다: D:\\repos\\V2X_Incident_Prediction\\merge\\merged_data_58.csv\n"
     ]
    },
    {
     "name": "stderr",
     "output_type": "stream",
     "text": [
      "Merging CSV and JSON files:  38%|███▊      | 1769995/4613074 [4:21:35<14:59:37, 52.67it/s] "
     ]
    },
    {
     "name": "stdout",
     "output_type": "stream",
     "text": [
      "병합된 데이터를 저장했습니다: D:\\repos\\V2X_Incident_Prediction\\merge\\merged_data_59.csv\n"
     ]
    },
    {
     "name": "stderr",
     "output_type": "stream",
     "text": [
      "Merging CSV and JSON files:  39%|███▉      | 1799996/4613074 [4:26:33<6:46:04, 115.46it/s] "
     ]
    },
    {
     "name": "stdout",
     "output_type": "stream",
     "text": [
      "병합된 데이터를 저장했습니다: D:\\repos\\V2X_Incident_Prediction\\merge\\merged_data_60.csv\n"
     ]
    },
    {
     "name": "stderr",
     "output_type": "stream",
     "text": [
      "Merging CSV and JSON files:  40%|███▉      | 1830016/4613074 [4:30:51<56:41:50, 13.64it/s] "
     ]
    },
    {
     "name": "stdout",
     "output_type": "stream",
     "text": [
      "병합된 데이터를 저장했습니다: D:\\repos\\V2X_Incident_Prediction\\merge\\merged_data_61.csv\n"
     ]
    },
    {
     "name": "stderr",
     "output_type": "stream",
     "text": [
      "Merging CSV and JSON files:  40%|████      | 1860012/4613074 [4:35:22<225:18:33,  3.39it/s]"
     ]
    },
    {
     "name": "stdout",
     "output_type": "stream",
     "text": [
      "병합된 데이터를 저장했습니다: D:\\repos\\V2X_Incident_Prediction\\merge\\merged_data_62.csv\n"
     ]
    },
    {
     "name": "stderr",
     "output_type": "stream",
     "text": [
      "Merging CSV and JSON files:  41%|████      | 1890014/4613074 [4:39:40<54:10:07, 13.96it/s] "
     ]
    },
    {
     "name": "stdout",
     "output_type": "stream",
     "text": [
      "병합된 데이터를 저장했습니다: D:\\repos\\V2X_Incident_Prediction\\merge\\merged_data_63.csv\n"
     ]
    },
    {
     "name": "stderr",
     "output_type": "stream",
     "text": [
      "Merging CSV and JSON files:  42%|████▏     | 1920009/4613074 [4:44:11<270:20:14,  2.77it/s]"
     ]
    },
    {
     "name": "stdout",
     "output_type": "stream",
     "text": [
      "병합된 데이터를 저장했습니다: D:\\repos\\V2X_Incident_Prediction\\merge\\merged_data_64.csv\n"
     ]
    },
    {
     "name": "stderr",
     "output_type": "stream",
     "text": [
      "Merging CSV and JSON files:  42%|████▏     | 1950016/4613074 [4:48:27<52:49:35, 14.00it/s] "
     ]
    },
    {
     "name": "stdout",
     "output_type": "stream",
     "text": [
      "병합된 데이터를 저장했습니다: D:\\repos\\V2X_Incident_Prediction\\merge\\merged_data_65.csv\n"
     ]
    },
    {
     "name": "stderr",
     "output_type": "stream",
     "text": [
      "Merging CSV and JSON files:  43%|████▎     | 1980011/4613074 [4:52:59<277:42:36,  2.63it/s]"
     ]
    },
    {
     "name": "stdout",
     "output_type": "stream",
     "text": [
      "병합된 데이터를 저장했습니다: D:\\repos\\V2X_Incident_Prediction\\merge\\merged_data_66.csv\n"
     ]
    },
    {
     "name": "stderr",
     "output_type": "stream",
     "text": [
      "Merging CSV and JSON files:  44%|████▎     | 2010010/4613074 [4:57:45<79:43:02,  9.07it/s] "
     ]
    },
    {
     "name": "stdout",
     "output_type": "stream",
     "text": [
      "병합된 데이터를 저장했습니다: D:\\repos\\V2X_Incident_Prediction\\merge\\merged_data_67.csv\n"
     ]
    },
    {
     "name": "stderr",
     "output_type": "stream",
     "text": [
      "Merging CSV and JSON files:  44%|████▍     | 2040010/4613074 [5:02:14<222:30:29,  3.21it/s]"
     ]
    },
    {
     "name": "stdout",
     "output_type": "stream",
     "text": [
      "병합된 데이터를 저장했습니다: D:\\repos\\V2X_Incident_Prediction\\merge\\merged_data_68.csv\n"
     ]
    },
    {
     "name": "stderr",
     "output_type": "stream",
     "text": [
      "Merging CSV and JSON files:  45%|████▍     | 2070018/4613074 [5:06:29<48:44:32, 14.49it/s] "
     ]
    },
    {
     "name": "stdout",
     "output_type": "stream",
     "text": [
      "병합된 데이터를 저장했습니다: D:\\repos\\V2X_Incident_Prediction\\merge\\merged_data_69.csv\n"
     ]
    },
    {
     "name": "stderr",
     "output_type": "stream",
     "text": [
      "Merging CSV and JSON files:  46%|████▌     | 2100010/4613074 [5:11:15<268:21:43,  2.60it/s]"
     ]
    },
    {
     "name": "stdout",
     "output_type": "stream",
     "text": [
      "병합된 데이터를 저장했습니다: D:\\repos\\V2X_Incident_Prediction\\merge\\merged_data_70.csv\n"
     ]
    },
    {
     "name": "stderr",
     "output_type": "stream",
     "text": [
      "Merging CSV and JSON files:  46%|████▌     | 2130018/4613074 [5:15:31<50:56:34, 13.54it/s] "
     ]
    },
    {
     "name": "stdout",
     "output_type": "stream",
     "text": [
      "병합된 데이터를 저장했습니다: D:\\repos\\V2X_Incident_Prediction\\merge\\merged_data_71.csv\n"
     ]
    },
    {
     "name": "stderr",
     "output_type": "stream",
     "text": [
      "Merging CSV and JSON files:  47%|████▋     | 2160012/4613074 [5:19:59<231:01:30,  2.95it/s]"
     ]
    },
    {
     "name": "stdout",
     "output_type": "stream",
     "text": [
      "병합된 데이터를 저장했습니다: D:\\repos\\V2X_Incident_Prediction\\merge\\merged_data_72.csv\n"
     ]
    },
    {
     "name": "stderr",
     "output_type": "stream",
     "text": [
      "Merging CSV and JSON files:  47%|████▋     | 2190011/4613074 [5:24:14<49:57:17, 13.47it/s] "
     ]
    },
    {
     "name": "stdout",
     "output_type": "stream",
     "text": [
      "병합된 데이터를 저장했습니다: D:\\repos\\V2X_Incident_Prediction\\merge\\merged_data_73.csv\n"
     ]
    },
    {
     "name": "stderr",
     "output_type": "stream",
     "text": [
      "Merging CSV and JSON files:  48%|████▊     | 2220009/4613074 [5:28:42<66:55:12,  9.93it/s] "
     ]
    },
    {
     "name": "stdout",
     "output_type": "stream",
     "text": [
      "병합된 데이터를 저장했습니다: D:\\repos\\V2X_Incident_Prediction\\merge\\merged_data_74.csv\n"
     ]
    },
    {
     "name": "stderr",
     "output_type": "stream",
     "text": [
      "Merging CSV and JSON files:  49%|████▉     | 2249991/4613074 [5:33:09<5:25:24, 121.03it/s]"
     ]
    },
    {
     "name": "stdout",
     "output_type": "stream",
     "text": [
      "병합된 데이터를 저장했습니다: D:\\repos\\V2X_Incident_Prediction\\merge\\merged_data_75.csv\n"
     ]
    },
    {
     "name": "stderr",
     "output_type": "stream",
     "text": [
      "Merging CSV and JSON files:  49%|████▉     | 2280009/4613074 [5:37:26<65:52:34,  9.84it/s] "
     ]
    },
    {
     "name": "stdout",
     "output_type": "stream",
     "text": [
      "병합된 데이터를 저장했습니다: D:\\repos\\V2X_Incident_Prediction\\merge\\merged_data_76.csv\n"
     ]
    },
    {
     "name": "stderr",
     "output_type": "stream",
     "text": [
      "Merging CSV and JSON files:  50%|█████     | 2310012/4613074 [5:41:55<203:59:33,  3.14it/s]"
     ]
    },
    {
     "name": "stdout",
     "output_type": "stream",
     "text": [
      "병합된 데이터를 저장했습니다: D:\\repos\\V2X_Incident_Prediction\\merge\\merged_data_77.csv\n"
     ]
    },
    {
     "name": "stderr",
     "output_type": "stream",
     "text": [
      "Merging CSV and JSON files:  51%|█████     | 2340019/4613074 [5:46:09<46:22:07, 13.62it/s] "
     ]
    },
    {
     "name": "stdout",
     "output_type": "stream",
     "text": [
      "병합된 데이터를 저장했습니다: D:\\repos\\V2X_Incident_Prediction\\merge\\merged_data_78.csv\n"
     ]
    },
    {
     "name": "stderr",
     "output_type": "stream",
     "text": [
      "Merging CSV and JSON files:  51%|█████▏    | 2370013/4613074 [5:50:45<223:34:59,  2.79it/s]"
     ]
    },
    {
     "name": "stdout",
     "output_type": "stream",
     "text": [
      "병합된 데이터를 저장했습니다: D:\\repos\\V2X_Incident_Prediction\\merge\\merged_data_79.csv\n"
     ]
    },
    {
     "name": "stderr",
     "output_type": "stream",
     "text": [
      "Merging CSV and JSON files:  52%|█████▏    | 2399998/4613074 [5:54:58<5:06:24, 120.38it/s] "
     ]
    },
    {
     "name": "stdout",
     "output_type": "stream",
     "text": [
      "병합된 데이터를 저장했습니다: D:\\repos\\V2X_Incident_Prediction\\merge\\merged_data_80.csv\n"
     ]
    },
    {
     "name": "stderr",
     "output_type": "stream",
     "text": [
      "Merging CSV and JSON files:  53%|█████▎    | 2429996/4613074 [5:59:29<5:07:14, 118.42it/s]"
     ]
    },
    {
     "name": "stdout",
     "output_type": "stream",
     "text": [
      "병합된 데이터를 저장했습니다: D:\\repos\\V2X_Incident_Prediction\\merge\\merged_data_81.csv\n"
     ]
    },
    {
     "name": "stderr",
     "output_type": "stream",
     "text": [
      "Merging CSV and JSON files:  53%|█████▎    | 2460018/4613074 [6:03:47<43:04:58, 13.88it/s] "
     ]
    },
    {
     "name": "stdout",
     "output_type": "stream",
     "text": [
      "병합된 데이터를 저장했습니다: D:\\repos\\V2X_Incident_Prediction\\merge\\merged_data_82.csv\n"
     ]
    },
    {
     "name": "stderr",
     "output_type": "stream",
     "text": [
      "Merging CSV and JSON files:  54%|█████▍    | 2490000/4613074 [6:08:15<254:32:35,  2.32it/s]"
     ]
    },
    {
     "name": "stdout",
     "output_type": "stream",
     "text": [
      "병합된 데이터를 저장했습니다: D:\\repos\\V2X_Incident_Prediction\\merge\\merged_data_83.csv\n"
     ]
    },
    {
     "name": "stderr",
     "output_type": "stream",
     "text": [
      "Merging CSV and JSON files:  55%|█████▍    | 2520011/4613074 [6:12:30<43:40:06, 13.31it/s] "
     ]
    },
    {
     "name": "stdout",
     "output_type": "stream",
     "text": [
      "병합된 데이터를 저장했습니다: D:\\repos\\V2X_Incident_Prediction\\merge\\merged_data_84.csv\n"
     ]
    },
    {
     "name": "stderr",
     "output_type": "stream",
     "text": [
      "Merging CSV and JSON files:  55%|█████▌    | 2550010/4613074 [6:16:59<184:56:32,  3.10it/s]"
     ]
    },
    {
     "name": "stdout",
     "output_type": "stream",
     "text": [
      "병합된 데이터를 저장했습니다: D:\\repos\\V2X_Incident_Prediction\\merge\\merged_data_85.csv\n"
     ]
    },
    {
     "name": "stderr",
     "output_type": "stream",
     "text": [
      "Merging CSV and JSON files:  56%|█████▌    | 2580012/4613074 [6:21:14<40:25:33, 13.97it/s] "
     ]
    },
    {
     "name": "stdout",
     "output_type": "stream",
     "text": [
      "병합된 데이터를 저장했습니다: D:\\repos\\V2X_Incident_Prediction\\merge\\merged_data_86.csv\n"
     ]
    },
    {
     "name": "stderr",
     "output_type": "stream",
     "text": [
      "Merging CSV and JSON files:  57%|█████▋    | 2609997/4613074 [6:25:39<4:33:16, 122.16it/s]"
     ]
    },
    {
     "name": "stdout",
     "output_type": "stream",
     "text": [
      "병합된 데이터를 저장했습니다: D:\\repos\\V2X_Incident_Prediction\\merge\\merged_data_87.csv\n"
     ]
    },
    {
     "name": "stderr",
     "output_type": "stream",
     "text": [
      "Merging CSV and JSON files:  57%|█████▋    | 2640017/4613074 [6:29:56<39:39:51, 13.82it/s] "
     ]
    },
    {
     "name": "stdout",
     "output_type": "stream",
     "text": [
      "병합된 데이터를 저장했습니다: D:\\repos\\V2X_Incident_Prediction\\merge\\merged_data_88.csv\n"
     ]
    },
    {
     "name": "stderr",
     "output_type": "stream",
     "text": [
      "Merging CSV and JSON files:  58%|█████▊    | 2670009/4613074 [6:34:43<189:06:25,  2.85it/s]"
     ]
    },
    {
     "name": "stdout",
     "output_type": "stream",
     "text": [
      "병합된 데이터를 저장했습니다: D:\\repos\\V2X_Incident_Prediction\\merge\\merged_data_89.csv\n"
     ]
    },
    {
     "name": "stderr",
     "output_type": "stream",
     "text": [
      "Merging CSV and JSON files:  59%|█████▊    | 2700011/4613074 [6:38:59<52:07:15, 10.20it/s] "
     ]
    },
    {
     "name": "stdout",
     "output_type": "stream",
     "text": [
      "병합된 데이터를 저장했습니다: D:\\repos\\V2X_Incident_Prediction\\merge\\merged_data_90.csv\n"
     ]
    },
    {
     "name": "stderr",
     "output_type": "stream",
     "text": [
      "Merging CSV and JSON files:  59%|█████▉    | 2729989/4613074 [6:43:24<4:48:31, 108.78it/s] "
     ]
    },
    {
     "name": "stdout",
     "output_type": "stream",
     "text": [
      "병합된 데이터를 저장했습니다: D:\\repos\\V2X_Incident_Prediction\\merge\\merged_data_91.csv\n"
     ]
    },
    {
     "name": "stderr",
     "output_type": "stream",
     "text": [
      "Merging CSV and JSON files:  60%|█████▉    | 2760015/4613074 [6:47:45<37:11:39, 13.84it/s]"
     ]
    },
    {
     "name": "stdout",
     "output_type": "stream",
     "text": [
      "병합된 데이터를 저장했습니다: D:\\repos\\V2X_Incident_Prediction\\merge\\merged_data_92.csv\n"
     ]
    },
    {
     "name": "stderr",
     "output_type": "stream",
     "text": [
      "Merging CSV and JSON files:  60%|██████    | 2790018/4613074 [6:52:15<36:12:15, 13.99it/s] "
     ]
    },
    {
     "name": "stdout",
     "output_type": "stream",
     "text": [
      "병합된 데이터를 저장했습니다: D:\\repos\\V2X_Incident_Prediction\\merge\\merged_data_93.csv\n"
     ]
    },
    {
     "name": "stderr",
     "output_type": "stream",
     "text": [
      "Merging CSV and JSON files:  61%|██████    | 2820010/4613074 [6:56:45<168:01:13,  2.96it/s]"
     ]
    },
    {
     "name": "stdout",
     "output_type": "stream",
     "text": [
      "병합된 데이터를 저장했습니다: D:\\repos\\V2X_Incident_Prediction\\merge\\merged_data_94.csv\n"
     ]
    },
    {
     "name": "stderr",
     "output_type": "stream",
     "text": [
      "Merging CSV and JSON files:  62%|██████▏   | 2850020/4613074 [7:01:01<36:21:54, 13.47it/s] "
     ]
    },
    {
     "name": "stdout",
     "output_type": "stream",
     "text": [
      "병합된 데이터를 저장했습니다: D:\\repos\\V2X_Incident_Prediction\\merge\\merged_data_95.csv\n"
     ]
    },
    {
     "name": "stderr",
     "output_type": "stream",
     "text": [
      "Merging CSV and JSON files:  62%|██████▏   | 2880009/4613074 [7:05:30<168:00:38,  2.87it/s]"
     ]
    },
    {
     "name": "stdout",
     "output_type": "stream",
     "text": [
      "병합된 데이터를 저장했습니다: D:\\repos\\V2X_Incident_Prediction\\merge\\merged_data_96.csv\n"
     ]
    },
    {
     "name": "stderr",
     "output_type": "stream",
     "text": [
      "Merging CSV and JSON files:  63%|██████▎   | 2909997/4613074 [7:09:50<3:50:54, 122.93it/s] "
     ]
    },
    {
     "name": "stdout",
     "output_type": "stream",
     "text": [
      "병합된 데이터를 저장했습니다: D:\\repos\\V2X_Incident_Prediction\\merge\\merged_data_97.csv\n"
     ]
    },
    {
     "name": "stderr",
     "output_type": "stream",
     "text": [
      "Merging CSV and JSON files:  64%|██████▎   | 2940011/4613074 [7:14:25<180:37:50,  2.57it/s]"
     ]
    },
    {
     "name": "stdout",
     "output_type": "stream",
     "text": [
      "병합된 데이터를 저장했습니다: D:\\repos\\V2X_Incident_Prediction\\merge\\merged_data_98.csv\n"
     ]
    },
    {
     "name": "stderr",
     "output_type": "stream",
     "text": [
      "Merging CSV and JSON files:  64%|██████▍   | 2970007/4613074 [7:18:40<45:06:17, 10.12it/s] "
     ]
    },
    {
     "name": "stdout",
     "output_type": "stream",
     "text": [
      "병합된 데이터를 저장했습니다: D:\\repos\\V2X_Incident_Prediction\\merge\\merged_data_99.csv\n"
     ]
    },
    {
     "name": "stderr",
     "output_type": "stream",
     "text": [
      "Merging CSV and JSON files:  65%|██████▌   | 3000000/4613074 [7:23:26<195:15:24,  2.29it/s]"
     ]
    },
    {
     "name": "stdout",
     "output_type": "stream",
     "text": [
      "병합된 데이터를 저장했습니다: D:\\repos\\V2X_Incident_Prediction\\merge\\merged_data_100.csv\n"
     ]
    },
    {
     "name": "stderr",
     "output_type": "stream",
     "text": [
      "Merging CSV and JSON files:  66%|██████▌   | 3030015/4613074 [7:27:42<33:54:53, 12.97it/s] "
     ]
    },
    {
     "name": "stdout",
     "output_type": "stream",
     "text": [
      "병합된 데이터를 저장했습니다: D:\\repos\\V2X_Incident_Prediction\\merge\\merged_data_101.csv\n"
     ]
    },
    {
     "name": "stderr",
     "output_type": "stream",
     "text": [
      "Merging CSV and JSON files:  66%|██████▋   | 3060009/4613074 [7:32:11<151:49:12,  2.84it/s]"
     ]
    },
    {
     "name": "stdout",
     "output_type": "stream",
     "text": [
      "병합된 데이터를 저장했습니다: D:\\repos\\V2X_Incident_Prediction\\merge\\merged_data_102.csv\n"
     ]
    },
    {
     "name": "stderr",
     "output_type": "stream",
     "text": [
      "Merging CSV and JSON files:  67%|██████▋   | 3090011/4613074 [7:36:26<40:24:08, 10.47it/s] "
     ]
    },
    {
     "name": "stdout",
     "output_type": "stream",
     "text": [
      "병합된 데이터를 저장했습니다: D:\\repos\\V2X_Incident_Prediction\\merge\\merged_data_103.csv\n"
     ]
    },
    {
     "name": "stderr",
     "output_type": "stream",
     "text": [
      "Merging CSV and JSON files:  68%|██████▊   | 3120019/4613074 [7:40:53<30:27:08, 13.62it/s] "
     ]
    },
    {
     "name": "stdout",
     "output_type": "stream",
     "text": [
      "병합된 데이터를 저장했습니다: D:\\repos\\V2X_Incident_Prediction\\merge\\merged_data_104.csv\n"
     ]
    },
    {
     "name": "stderr",
     "output_type": "stream",
     "text": [
      "Merging CSV and JSON files:  68%|██████▊   | 3150013/4613074 [7:45:06<29:09:59, 13.93it/s]"
     ]
    },
    {
     "name": "stdout",
     "output_type": "stream",
     "text": [
      "병합된 데이터를 저장했습니다: D:\\repos\\V2X_Incident_Prediction\\merge\\merged_data_105.csv\n"
     ]
    },
    {
     "name": "stderr",
     "output_type": "stream",
     "text": [
      "Merging CSV and JSON files:  69%|██████▉   | 3180013/4613074 [7:49:31<27:49:19, 14.31it/s] "
     ]
    },
    {
     "name": "stdout",
     "output_type": "stream",
     "text": [
      "병합된 데이터를 저장했습니다: D:\\repos\\V2X_Incident_Prediction\\merge\\merged_data_106.csv\n"
     ]
    },
    {
     "name": "stderr",
     "output_type": "stream",
     "text": [
      "Merging CSV and JSON files:  70%|██████▉   | 3210012/4613074 [7:54:41<118:16:18,  3.30it/s]"
     ]
    },
    {
     "name": "stdout",
     "output_type": "stream",
     "text": [
      "병합된 데이터를 저장했습니다: D:\\repos\\V2X_Incident_Prediction\\merge\\merged_data_107.csv\n"
     ]
    },
    {
     "name": "stderr",
     "output_type": "stream",
     "text": [
      "Merging CSV and JSON files:  70%|███████   | 3240011/4613074 [7:58:54<37:36:05, 10.14it/s] "
     ]
    },
    {
     "name": "stdout",
     "output_type": "stream",
     "text": [
      "병합된 데이터를 저장했습니다: D:\\repos\\V2X_Incident_Prediction\\merge\\merged_data_108.csv\n"
     ]
    },
    {
     "name": "stderr",
     "output_type": "stream",
     "text": [
      "Merging CSV and JSON files:  71%|███████   | 3270010/4613074 [8:03:22<134:08:41,  2.78it/s]"
     ]
    },
    {
     "name": "stdout",
     "output_type": "stream",
     "text": [
      "병합된 데이터를 저장했습니다: D:\\repos\\V2X_Incident_Prediction\\merge\\merged_data_109.csv\n"
     ]
    },
    {
     "name": "stderr",
     "output_type": "stream",
     "text": [
      "Merging CSV and JSON files:  72%|███████▏  | 3300015/4613074 [8:07:36<27:35:35, 13.22it/s] "
     ]
    },
    {
     "name": "stdout",
     "output_type": "stream",
     "text": [
      "병합된 데이터를 저장했습니다: D:\\repos\\V2X_Incident_Prediction\\merge\\merged_data_110.csv\n"
     ]
    },
    {
     "name": "stderr",
     "output_type": "stream",
     "text": [
      "Merging CSV and JSON files:  72%|███████▏  | 3329992/4613074 [8:12:00<2:52:11, 124.20it/s]"
     ]
    },
    {
     "name": "stdout",
     "output_type": "stream",
     "text": [
      "병합된 데이터를 저장했습니다: D:\\repos\\V2X_Incident_Prediction\\merge\\merged_data_111.csv\n"
     ]
    },
    {
     "name": "stderr",
     "output_type": "stream",
     "text": [
      "Merging CSV and JSON files:  73%|███████▎  | 3360017/4613074 [8:16:16<24:32:34, 14.18it/s] "
     ]
    },
    {
     "name": "stdout",
     "output_type": "stream",
     "text": [
      "병합된 데이터를 저장했습니다: D:\\repos\\V2X_Incident_Prediction\\merge\\merged_data_112.csv\n"
     ]
    },
    {
     "name": "stderr",
     "output_type": "stream",
     "text": [
      "Merging CSV and JSON files:  73%|███████▎  | 3390009/4613074 [8:20:43<114:37:25,  2.96it/s]"
     ]
    },
    {
     "name": "stdout",
     "output_type": "stream",
     "text": [
      "병합된 데이터를 저장했습니다: D:\\repos\\V2X_Incident_Prediction\\merge\\merged_data_113.csv\n"
     ]
    },
    {
     "name": "stderr",
     "output_type": "stream",
     "text": [
      "Merging CSV and JSON files:  74%|███████▍  | 3419988/4613074 [8:24:53<2:39:41, 124.52it/s] "
     ]
    },
    {
     "name": "stdout",
     "output_type": "stream",
     "text": [
      "병합된 데이터를 저장했습니다: D:\\repos\\V2X_Incident_Prediction\\merge\\merged_data_114.csv\n"
     ]
    },
    {
     "name": "stderr",
     "output_type": "stream",
     "text": [
      "Merging CSV and JSON files:  75%|███████▍  | 3450010/4613074 [8:29:55<25:09:26, 12.84it/s] "
     ]
    },
    {
     "name": "stdout",
     "output_type": "stream",
     "text": [
      "병합된 데이터를 저장했습니다: D:\\repos\\V2X_Incident_Prediction\\merge\\merged_data_115.csv\n"
     ]
    },
    {
     "name": "stderr",
     "output_type": "stream",
     "text": [
      "Merging CSV and JSON files:  75%|███████▌  | 3480013/4613074 [8:34:07<22:57:55, 13.70it/s]"
     ]
    },
    {
     "name": "stdout",
     "output_type": "stream",
     "text": [
      "병합된 데이터를 저장했습니다: D:\\repos\\V2X_Incident_Prediction\\merge\\merged_data_116.csv\n"
     ]
    },
    {
     "name": "stderr",
     "output_type": "stream",
     "text": [
      "Merging CSV and JSON files:  76%|███████▌  | 3510015/4613074 [8:38:33<22:02:09, 13.90it/s] "
     ]
    },
    {
     "name": "stdout",
     "output_type": "stream",
     "text": [
      "병합된 데이터를 저장했습니다: D:\\repos\\V2X_Incident_Prediction\\merge\\merged_data_117.csv\n"
     ]
    },
    {
     "name": "stderr",
     "output_type": "stream",
     "text": [
      "Merging CSV and JSON files:  77%|███████▋  | 3540011/4613074 [8:43:00<112:28:38,  2.65it/s]"
     ]
    },
    {
     "name": "stdout",
     "output_type": "stream",
     "text": [
      "병합된 데이터를 저장했습니다: D:\\repos\\V2X_Incident_Prediction\\merge\\merged_data_118.csv\n"
     ]
    },
    {
     "name": "stderr",
     "output_type": "stream",
     "text": [
      "Merging CSV and JSON files:  77%|███████▋  | 3569994/4613074 [8:47:08<2:16:22, 127.48it/s] "
     ]
    },
    {
     "name": "stdout",
     "output_type": "stream",
     "text": [
      "병합된 데이터를 저장했습니다: D:\\repos\\V2X_Incident_Prediction\\merge\\merged_data_119.csv\n"
     ]
    },
    {
     "name": "stderr",
     "output_type": "stream",
     "text": [
      "Merging CSV and JSON files:  78%|███████▊  | 3599994/4613074 [8:51:36<2:35:23, 108.66it/s]"
     ]
    },
    {
     "name": "stdout",
     "output_type": "stream",
     "text": [
      "병합된 데이터를 저장했습니다: D:\\repos\\V2X_Incident_Prediction\\merge\\merged_data_120.csv\n"
     ]
    },
    {
     "name": "stderr",
     "output_type": "stream",
     "text": [
      "Merging CSV and JSON files:  79%|███████▊  | 3629997/4613074 [8:55:48<2:16:43, 119.84it/s] "
     ]
    },
    {
     "name": "stdout",
     "output_type": "stream",
     "text": [
      "병합된 데이터를 저장했습니다: D:\\repos\\V2X_Incident_Prediction\\merge\\merged_data_121.csv\n"
     ]
    },
    {
     "name": "stderr",
     "output_type": "stream",
     "text": [
      "Merging CSV and JSON files:  79%|███████▉  | 3660012/4613074 [9:00:20<93:36:25,  2.83it/s] "
     ]
    },
    {
     "name": "stdout",
     "output_type": "stream",
     "text": [
      "병합된 데이터를 저장했습니다: D:\\repos\\V2X_Incident_Prediction\\merge\\merged_data_122.csv\n"
     ]
    },
    {
     "name": "stderr",
     "output_type": "stream",
     "text": [
      "Merging CSV and JSON files:  80%|███████▉  | 3690018/4613074 [9:04:35<18:37:30, 13.77it/s]"
     ]
    },
    {
     "name": "stdout",
     "output_type": "stream",
     "text": [
      "병합된 데이터를 저장했습니다: D:\\repos\\V2X_Incident_Prediction\\merge\\merged_data_123.csv\n"
     ]
    },
    {
     "name": "stderr",
     "output_type": "stream",
     "text": [
      "Merging CSV and JSON files:  81%|████████  | 3720009/4613074 [9:09:03<79:39:57,  3.11it/s] "
     ]
    },
    {
     "name": "stdout",
     "output_type": "stream",
     "text": [
      "병합된 데이터를 저장했습니다: D:\\repos\\V2X_Incident_Prediction\\merge\\merged_data_124.csv\n"
     ]
    },
    {
     "name": "stderr",
     "output_type": "stream",
     "text": [
      "Merging CSV and JSON files:  81%|████████▏ | 3750012/4613074 [9:13:34<16:52:18, 14.21it/s]"
     ]
    },
    {
     "name": "stdout",
     "output_type": "stream",
     "text": [
      "병합된 데이터를 저장했습니다: D:\\repos\\V2X_Incident_Prediction\\merge\\merged_data_125.csv\n"
     ]
    },
    {
     "name": "stderr",
     "output_type": "stream",
     "text": [
      "Merging CSV and JSON files:  82%|████████▏ | 3780011/4613074 [9:18:02<80:59:59,  2.86it/s] "
     ]
    },
    {
     "name": "stdout",
     "output_type": "stream",
     "text": [
      "병합된 데이터를 저장했습니다: D:\\repos\\V2X_Incident_Prediction\\merge\\merged_data_126.csv\n"
     ]
    },
    {
     "name": "stderr",
     "output_type": "stream",
     "text": [
      "Merging CSV and JSON files:  83%|████████▎ | 3810015/4613074 [9:22:18<16:09:31, 13.81it/s]"
     ]
    },
    {
     "name": "stdout",
     "output_type": "stream",
     "text": [
      "병합된 데이터를 저장했습니다: D:\\repos\\V2X_Incident_Prediction\\merge\\merged_data_127.csv\n"
     ]
    },
    {
     "name": "stderr",
     "output_type": "stream",
     "text": [
      "Merging CSV and JSON files:  83%|████████▎ | 3840011/4613074 [9:26:46<21:04:06, 10.19it/s]"
     ]
    },
    {
     "name": "stdout",
     "output_type": "stream",
     "text": [
      "병합된 데이터를 저장했습니다: D:\\repos\\V2X_Incident_Prediction\\merge\\merged_data_128.csv\n"
     ]
    },
    {
     "name": "stderr",
     "output_type": "stream",
     "text": [
      "Merging CSV and JSON files:  84%|████████▎ | 3852833/4613074 [9:28:33<1:43:10, 122.81it/s]"
     ]
    },
    {
     "name": "stdout",
     "output_type": "stream",
     "text": [
      "Error processing file V_221103_C_A_FFE81054_000088: No objects to concatenate\n"
     ]
    },
    {
     "name": "stderr",
     "output_type": "stream",
     "text": [
      "Merging CSV and JSON files:  84%|████████▍ | 3870016/4613074 [9:31:00<14:40:20, 14.07it/s]"
     ]
    },
    {
     "name": "stdout",
     "output_type": "stream",
     "text": [
      "병합된 데이터를 저장했습니다: D:\\repos\\V2X_Incident_Prediction\\merge\\merged_data_129.csv\n"
     ]
    },
    {
     "name": "stderr",
     "output_type": "stream",
     "text": [
      "Merging CSV and JSON files:  85%|████████▍ | 3900009/4613074 [9:35:27<19:47:46, 10.01it/s]"
     ]
    },
    {
     "name": "stdout",
     "output_type": "stream",
     "text": [
      "병합된 데이터를 저장했습니다: D:\\repos\\V2X_Incident_Prediction\\merge\\merged_data_130.csv\n"
     ]
    },
    {
     "name": "stderr",
     "output_type": "stream",
     "text": [
      "Merging CSV and JSON files:  85%|████████▌ | 3930008/4613074 [9:40:09<115:10:53,  1.65it/s]"
     ]
    },
    {
     "name": "stdout",
     "output_type": "stream",
     "text": [
      "병합된 데이터를 저장했습니다: D:\\repos\\V2X_Incident_Prediction\\merge\\merged_data_131.csv\n"
     ]
    },
    {
     "name": "stderr",
     "output_type": "stream",
     "text": [
      "Merging CSV and JSON files:  86%|████████▌ | 3960011/4613074 [9:44:32<17:19:13, 10.47it/s] "
     ]
    },
    {
     "name": "stdout",
     "output_type": "stream",
     "text": [
      "병합된 데이터를 저장했습니다: D:\\repos\\V2X_Incident_Prediction\\merge\\merged_data_132.csv\n"
     ]
    },
    {
     "name": "stderr",
     "output_type": "stream",
     "text": [
      "Merging CSV and JSON files:  86%|████████▋ | 3990010/4613074 [9:49:00<58:13:50,  2.97it/s]"
     ]
    },
    {
     "name": "stdout",
     "output_type": "stream",
     "text": [
      "병합된 데이터를 저장했습니다: D:\\repos\\V2X_Incident_Prediction\\merge\\merged_data_133.csv\n"
     ]
    },
    {
     "name": "stderr",
     "output_type": "stream",
     "text": [
      "Merging CSV and JSON files:  87%|████████▋ | 4020009/4613074 [9:53:17<16:03:04, 10.26it/s]"
     ]
    },
    {
     "name": "stdout",
     "output_type": "stream",
     "text": [
      "병합된 데이터를 저장했습니다: D:\\repos\\V2X_Incident_Prediction\\merge\\merged_data_134.csv\n"
     ]
    },
    {
     "name": "stderr",
     "output_type": "stream",
     "text": [
      "Merging CSV and JSON files:  88%|████████▊ | 4050001/4613074 [9:57:55<84:37:02,  1.85it/s]"
     ]
    },
    {
     "name": "stdout",
     "output_type": "stream",
     "text": [
      "병합된 데이터를 저장했습니다: D:\\repos\\V2X_Incident_Prediction\\merge\\merged_data_135.csv\n"
     ]
    },
    {
     "name": "stderr",
     "output_type": "stream",
     "text": [
      "Merging CSV and JSON files:  88%|████████▊ | 4080018/4613074 [10:02:11<10:29:50, 14.11it/s]"
     ]
    },
    {
     "name": "stdout",
     "output_type": "stream",
     "text": [
      "병합된 데이터를 저장했습니다: D:\\repos\\V2X_Incident_Prediction\\merge\\merged_data_136.csv\n"
     ]
    },
    {
     "name": "stderr",
     "output_type": "stream",
     "text": [
      "Merging CSV and JSON files:  89%|████████▉ | 4110013/4613074 [10:06:39<46:21:24,  3.01it/s]"
     ]
    },
    {
     "name": "stdout",
     "output_type": "stream",
     "text": [
      "병합된 데이터를 저장했습니다: D:\\repos\\V2X_Incident_Prediction\\merge\\merged_data_137.csv\n"
     ]
    },
    {
     "name": "stderr",
     "output_type": "stream",
     "text": [
      "Merging CSV and JSON files:  90%|████████▉ | 4139987/4613074 [10:10:41<1:07:14, 117.27it/s]"
     ]
    },
    {
     "name": "stdout",
     "output_type": "stream",
     "text": [
      "병합된 데이터를 저장했습니다: D:\\repos\\V2X_Incident_Prediction\\merge\\merged_data_138.csv\n"
     ]
    },
    {
     "name": "stderr",
     "output_type": "stream",
     "text": [
      "Merging CSV and JSON files:  90%|█████████ | 4170011/4613074 [10:15:07<11:52:57, 10.36it/s]"
     ]
    },
    {
     "name": "stdout",
     "output_type": "stream",
     "text": [
      "병합된 데이터를 저장했습니다: D:\\repos\\V2X_Incident_Prediction\\merge\\merged_data_139.csv\n"
     ]
    },
    {
     "name": "stderr",
     "output_type": "stream",
     "text": [
      "Merging CSV and JSON files:  91%|█████████ | 4200013/4613074 [10:19:34<40:54:03,  2.81it/s]"
     ]
    },
    {
     "name": "stdout",
     "output_type": "stream",
     "text": [
      "병합된 데이터를 저장했습니다: D:\\repos\\V2X_Incident_Prediction\\merge\\merged_data_140.csv\n"
     ]
    },
    {
     "name": "stderr",
     "output_type": "stream",
     "text": [
      "Merging CSV and JSON files:  92%|█████████▏| 4230010/4613074 [10:23:48<10:14:25, 10.39it/s]"
     ]
    },
    {
     "name": "stdout",
     "output_type": "stream",
     "text": [
      "병합된 데이터를 저장했습니다: D:\\repos\\V2X_Incident_Prediction\\merge\\merged_data_141.csv\n"
     ]
    },
    {
     "name": "stderr",
     "output_type": "stream",
     "text": [
      "Merging CSV and JSON files:  92%|█████████▏| 4260005/4613074 [10:28:46<66:41:26,  1.47it/s]"
     ]
    },
    {
     "name": "stdout",
     "output_type": "stream",
     "text": [
      "병합된 데이터를 저장했습니다: D:\\repos\\V2X_Incident_Prediction\\merge\\merged_data_142.csv\n"
     ]
    },
    {
     "name": "stderr",
     "output_type": "stream",
     "text": [
      "Merging CSV and JSON files:  93%|█████████▎| 4290013/4613074 [10:33:21<8:42:28, 10.31it/s] "
     ]
    },
    {
     "name": "stdout",
     "output_type": "stream",
     "text": [
      "병합된 데이터를 저장했습니다: D:\\repos\\V2X_Incident_Prediction\\merge\\merged_data_143.csv\n"
     ]
    },
    {
     "name": "stderr",
     "output_type": "stream",
     "text": [
      "Merging CSV and JSON files:  94%|█████████▎| 4319991/4613074 [10:37:54<43:38, 111.91it/s] "
     ]
    },
    {
     "name": "stdout",
     "output_type": "stream",
     "text": [
      "병합된 데이터를 저장했습니다: D:\\repos\\V2X_Incident_Prediction\\merge\\merged_data_144.csv\n"
     ]
    },
    {
     "name": "stderr",
     "output_type": "stream",
     "text": [
      "Merging CSV and JSON files:  94%|█████████▍| 4350014/4613074 [10:42:13<5:17:43, 13.80it/s] "
     ]
    },
    {
     "name": "stdout",
     "output_type": "stream",
     "text": [
      "병합된 데이터를 저장했습니다: D:\\repos\\V2X_Incident_Prediction\\merge\\merged_data_145.csv\n"
     ]
    },
    {
     "name": "stderr",
     "output_type": "stream",
     "text": [
      "Merging CSV and JSON files:  95%|█████████▍| 4379988/4613074 [10:47:06<30:49, 126.02it/s] "
     ]
    },
    {
     "name": "stdout",
     "output_type": "stream",
     "text": [
      "병합된 데이터를 저장했습니다: D:\\repos\\V2X_Incident_Prediction\\merge\\merged_data_146.csv\n"
     ]
    },
    {
     "name": "stderr",
     "output_type": "stream",
     "text": [
      "Merging CSV and JSON files:  96%|█████████▌| 4410016/4613074 [10:51:22<4:07:46, 13.66it/s] "
     ]
    },
    {
     "name": "stdout",
     "output_type": "stream",
     "text": [
      "병합된 데이터를 저장했습니다: D:\\repos\\V2X_Incident_Prediction\\merge\\merged_data_147.csv\n"
     ]
    },
    {
     "name": "stderr",
     "output_type": "stream",
     "text": [
      "Merging CSV and JSON files:  96%|█████████▌| 4440012/4613074 [10:55:49<17:49:16,  2.70it/s]"
     ]
    },
    {
     "name": "stdout",
     "output_type": "stream",
     "text": [
      "병합된 데이터를 저장했습니다: D:\\repos\\V2X_Incident_Prediction\\merge\\merged_data_148.csv\n"
     ]
    },
    {
     "name": "stderr",
     "output_type": "stream",
     "text": [
      "Merging CSV and JSON files:  97%|█████████▋| 4470009/4613074 [11:00:08<4:32:51,  8.74it/s] "
     ]
    },
    {
     "name": "stdout",
     "output_type": "stream",
     "text": [
      "병합된 데이터를 저장했습니다: D:\\repos\\V2X_Incident_Prediction\\merge\\merged_data_149.csv\n"
     ]
    },
    {
     "name": "stderr",
     "output_type": "stream",
     "text": [
      "Merging CSV and JSON files:  98%|█████████▊| 4499997/4613074 [11:04:41<15:45, 119.54it/s] "
     ]
    },
    {
     "name": "stdout",
     "output_type": "stream",
     "text": [
      "병합된 데이터를 저장했습니다: D:\\repos\\V2X_Incident_Prediction\\merge\\merged_data_150.csv\n"
     ]
    },
    {
     "name": "stderr",
     "output_type": "stream",
     "text": [
      "Merging CSV and JSON files:  98%|█████████▊| 4530010/4613074 [11:09:34<2:12:34, 10.44it/s] "
     ]
    },
    {
     "name": "stdout",
     "output_type": "stream",
     "text": [
      "병합된 데이터를 저장했습니다: D:\\repos\\V2X_Incident_Prediction\\merge\\merged_data_151.csv\n"
     ]
    },
    {
     "name": "stderr",
     "output_type": "stream",
     "text": [
      "Merging CSV and JSON files:  99%|█████████▉| 4560013/4613074 [11:14:36<4:32:32,  3.24it/s]"
     ]
    },
    {
     "name": "stdout",
     "output_type": "stream",
     "text": [
      "병합된 데이터를 저장했습니다: D:\\repos\\V2X_Incident_Prediction\\merge\\merged_data_152.csv\n"
     ]
    },
    {
     "name": "stderr",
     "output_type": "stream",
     "text": [
      "Merging CSV and JSON files:  99%|█████████▉| 4589995/4613074 [11:19:29<03:39, 105.01it/s] "
     ]
    },
    {
     "name": "stdout",
     "output_type": "stream",
     "text": [
      "병합된 데이터를 저장했습니다: D:\\repos\\V2X_Incident_Prediction\\merge\\merged_data_153.csv\n"
     ]
    },
    {
     "name": "stderr",
     "output_type": "stream",
     "text": [
      "Merging CSV and JSON files: 100%|██████████| 4613074/4613074 [11:23:01<00:00, 112.56it/s]\n"
     ]
    },
    {
     "name": "stdout",
     "output_type": "stream",
     "text": [
      "병합된 데이터를 저장했습니다: D:\\repos\\V2X_Incident_Prediction\\merge\\merged_data_154.csv\n",
      "모든 병합 작업이 완료되었습니다.\n"
     ]
    }
   ],
   "source": [
    "merge_csv_and_json(DATA_PATH, r'D:\\repos\\V2X_Incident_Prediction\\merge')"
   ]
  },
  {
   "cell_type": "code",
   "execution_count": 26,
   "metadata": {},
   "outputs": [],
   "source": [
    "def merge_csv_files(input_path, output_file):\n",
    "    \"\"\"\n",
    "    주어진 디렉토리 내의 모든 CSV 파일을 하나로 병합하여 저장\n",
    "\n",
    "    Parameters:\n",
    "    - input_path (str): CSV 파일들이 저장된 디렉토리 경로\n",
    "    - output_file (str): 병합된 CSV 파일을 저장할 경로\n",
    "\n",
    "    Returns:\n",
    "    - None\n",
    "    \"\"\"\n",
    "    csv_files = [os.path.join(input_path, f) for f in os.listdir(input_path) if f.endswith('.csv')]\n",
    "    print(f\"발견된 CSV 파일 개수: {len(csv_files)}\")\n",
    "\n",
    "    combined_data = []\n",
    "    for file in tqdm(csv_files, desc=\"Merging CSV files\"):\n",
    "        try:\n",
    "            df = pd.read_csv(file)\n",
    "            combined_data.append(df)\n",
    "        except Exception as e:\n",
    "            print(f\"Error reading {file}: {e}\")\n",
    "\n",
    "    if combined_data:\n",
    "        merged_df = pd.concat(combined_data, ignore_index=True)\n",
    "        merged_df.to_csv(output_file, index=False)\n",
    "        print(f\"병합된 데이터를 저장했습니다: {output_file}\")\n",
    "    else:\n",
    "        print(\"병합할 CSV 파일이 없습니다.\")"
   ]
  },
  {
   "cell_type": "code",
   "execution_count": 27,
   "metadata": {},
   "outputs": [
    {
     "name": "stdout",
     "output_type": "stream",
     "text": [
      "발견된 CSV 파일 개수: 154\n"
     ]
    },
    {
     "name": "stderr",
     "output_type": "stream",
     "text": [
      "Merging CSV files: 100%|██████████| 154/154 [00:43<00:00,  3.50it/s]\n"
     ]
    },
    {
     "name": "stdout",
     "output_type": "stream",
     "text": [
      "병합된 데이터를 저장했습니다: merge.csv\n"
     ]
    }
   ],
   "source": [
    "# 경로 설정\n",
    "input_path = \"merge\"       # 병합할 CSV 파일들이 있는 폴더 경로\n",
    "output_file = \"merge.csv\"  # 병합된 파일을 저장할 경로\n",
    "\n",
    "# 함수 실행\n",
    "merge_csv_files(input_path, output_file)"
   ]
  },
  {
   "cell_type": "code",
   "execution_count": 29,
   "metadata": {},
   "outputs": [
    {
     "data": {
      "text/html": [
       "<div>\n",
       "<style scoped>\n",
       "    .dataframe tbody tr th:only-of-type {\n",
       "        vertical-align: middle;\n",
       "    }\n",
       "\n",
       "    .dataframe tbody tr th {\n",
       "        vertical-align: top;\n",
       "    }\n",
       "\n",
       "    .dataframe thead th {\n",
       "        text-align: right;\n",
       "    }\n",
       "</style>\n",
       "<table border=\"1\" class=\"dataframe\">\n",
       "  <thead>\n",
       "    <tr style=\"text-align: right;\">\n",
       "      <th></th>\n",
       "      <th>Path</th>\n",
       "      <th>Annotation.Vehicle_ID</th>\n",
       "      <th>Annotation.Turn</th>\n",
       "      <th>Annotation.Lane</th>\n",
       "      <th>Annotation.Speed</th>\n",
       "      <th>Annotation.Hazard</th>\n",
       "      <th>ISSUE_DATE</th>\n",
       "      <th>VEHICLE_ID</th>\n",
       "      <th>VEHICLE_CLASS</th>\n",
       "      <th>LONGITUDE</th>\n",
       "      <th>LATITUDE</th>\n",
       "      <th>HEADING</th>\n",
       "      <th>SPEED</th>\n",
       "      <th>BRAKE_STATUS</th>\n",
       "      <th>ACC_SEC</th>\n",
       "      <th>VEHICLE_TYPE</th>\n",
       "      <th>CURRENT_LANE</th>\n",
       "      <th>Annotation.Index</th>\n",
       "    </tr>\n",
       "  </thead>\n",
       "  <tbody>\n",
       "    <tr>\n",
       "      <th>0</th>\n",
       "      <td>V_220911_C_A_FFE80BAA_000433.csv</td>\n",
       "      <td>FFE80BAA</td>\n",
       "      <td>False</td>\n",
       "      <td>False</td>\n",
       "      <td>False</td>\n",
       "      <td>False</td>\n",
       "      <td>20220911153241</td>\n",
       "      <td>FFE80BAA</td>\n",
       "      <td>9228.0</td>\n",
       "      <td>126.916046</td>\n",
       "      <td>35.162495</td>\n",
       "      <td>287.0</td>\n",
       "      <td>38.0</td>\n",
       "      <td>78.0</td>\n",
       "      <td>0.0</td>\n",
       "      <td>bus</td>\n",
       "      <td>0</td>\n",
       "      <td>NaN</td>\n",
       "    </tr>\n",
       "    <tr>\n",
       "      <th>1</th>\n",
       "      <td>V_220911_C_A_FFE80BAA_000433.csv</td>\n",
       "      <td>FFE80BAA</td>\n",
       "      <td>False</td>\n",
       "      <td>False</td>\n",
       "      <td>False</td>\n",
       "      <td>False</td>\n",
       "      <td>20220911153242</td>\n",
       "      <td>FFE80BAA</td>\n",
       "      <td>9228.0</td>\n",
       "      <td>126.915924</td>\n",
       "      <td>35.162526</td>\n",
       "      <td>286.0</td>\n",
       "      <td>37.0</td>\n",
       "      <td>78.0</td>\n",
       "      <td>-28.0</td>\n",
       "      <td>bus</td>\n",
       "      <td>0</td>\n",
       "      <td>NaN</td>\n",
       "    </tr>\n",
       "    <tr>\n",
       "      <th>2</th>\n",
       "      <td>V_220911_C_A_FFE80BAA_000433.csv</td>\n",
       "      <td>FFE80BAA</td>\n",
       "      <td>False</td>\n",
       "      <td>False</td>\n",
       "      <td>False</td>\n",
       "      <td>False</td>\n",
       "      <td>20220911153243</td>\n",
       "      <td>FFE80BAA</td>\n",
       "      <td>9228.0</td>\n",
       "      <td>126.915827</td>\n",
       "      <td>35.162551</td>\n",
       "      <td>287.0</td>\n",
       "      <td>34.0</td>\n",
       "      <td>78.0</td>\n",
       "      <td>-56.0</td>\n",
       "      <td>bus</td>\n",
       "      <td>0</td>\n",
       "      <td>NaN</td>\n",
       "    </tr>\n",
       "    <tr>\n",
       "      <th>3</th>\n",
       "      <td>V_220911_C_A_FFE80BAA_000433.csv</td>\n",
       "      <td>FFE80BAA</td>\n",
       "      <td>False</td>\n",
       "      <td>False</td>\n",
       "      <td>False</td>\n",
       "      <td>False</td>\n",
       "      <td>20220911153244</td>\n",
       "      <td>FFE80BAA</td>\n",
       "      <td>9228.0</td>\n",
       "      <td>126.915727</td>\n",
       "      <td>35.162578</td>\n",
       "      <td>288.0</td>\n",
       "      <td>31.0</td>\n",
       "      <td>78.0</td>\n",
       "      <td>-111.0</td>\n",
       "      <td>bus</td>\n",
       "      <td>0</td>\n",
       "      <td>NaN</td>\n",
       "    </tr>\n",
       "    <tr>\n",
       "      <th>4</th>\n",
       "      <td>V_220911_C_A_FFE80BAA_000433.csv</td>\n",
       "      <td>FFE80BAA</td>\n",
       "      <td>False</td>\n",
       "      <td>False</td>\n",
       "      <td>False</td>\n",
       "      <td>False</td>\n",
       "      <td>20220911153245</td>\n",
       "      <td>FFE80BAA</td>\n",
       "      <td>9228.0</td>\n",
       "      <td>126.915636</td>\n",
       "      <td>35.162603</td>\n",
       "      <td>288.0</td>\n",
       "      <td>29.0</td>\n",
       "      <td>78.0</td>\n",
       "      <td>-83.0</td>\n",
       "      <td>bus</td>\n",
       "      <td>0</td>\n",
       "      <td>NaN</td>\n",
       "    </tr>\n",
       "    <tr>\n",
       "      <th>5</th>\n",
       "      <td>V_220911_C_A_FFE80BAA_000433.csv</td>\n",
       "      <td>FFE80BAA</td>\n",
       "      <td>False</td>\n",
       "      <td>False</td>\n",
       "      <td>False</td>\n",
       "      <td>False</td>\n",
       "      <td>20220911153246</td>\n",
       "      <td>FFE80BAA</td>\n",
       "      <td>9228.0</td>\n",
       "      <td>126.915555</td>\n",
       "      <td>35.162625</td>\n",
       "      <td>288.0</td>\n",
       "      <td>24.0</td>\n",
       "      <td>78.0</td>\n",
       "      <td>-111.0</td>\n",
       "      <td>bus</td>\n",
       "      <td>0</td>\n",
       "      <td>NaN</td>\n",
       "    </tr>\n",
       "    <tr>\n",
       "      <th>6</th>\n",
       "      <td>V_220911_C_A_FFE80BAA_000433.csv</td>\n",
       "      <td>FFE80BAA</td>\n",
       "      <td>False</td>\n",
       "      <td>False</td>\n",
       "      <td>False</td>\n",
       "      <td>False</td>\n",
       "      <td>20220911153247</td>\n",
       "      <td>FFE80BAA</td>\n",
       "      <td>9228.0</td>\n",
       "      <td>126.915494</td>\n",
       "      <td>35.162643</td>\n",
       "      <td>290.0</td>\n",
       "      <td>16.0</td>\n",
       "      <td>78.0</td>\n",
       "      <td>-194.0</td>\n",
       "      <td>bus</td>\n",
       "      <td>0</td>\n",
       "      <td>NaN</td>\n",
       "    </tr>\n",
       "    <tr>\n",
       "      <th>7</th>\n",
       "      <td>V_220911_C_A_FFE80BAA_000433.csv</td>\n",
       "      <td>FFE80BAA</td>\n",
       "      <td>False</td>\n",
       "      <td>False</td>\n",
       "      <td>False</td>\n",
       "      <td>False</td>\n",
       "      <td>20220911153248</td>\n",
       "      <td>FFE80BAA</td>\n",
       "      <td>9228.0</td>\n",
       "      <td>126.915459</td>\n",
       "      <td>35.162654</td>\n",
       "      <td>289.0</td>\n",
       "      <td>7.0</td>\n",
       "      <td>78.0</td>\n",
       "      <td>-222.0</td>\n",
       "      <td>bus</td>\n",
       "      <td>0</td>\n",
       "      <td>NaN</td>\n",
       "    </tr>\n",
       "    <tr>\n",
       "      <th>8</th>\n",
       "      <td>V_220911_C_A_FFE80BAA_000433.csv</td>\n",
       "      <td>FFE80BAA</td>\n",
       "      <td>False</td>\n",
       "      <td>False</td>\n",
       "      <td>False</td>\n",
       "      <td>False</td>\n",
       "      <td>20220911153249</td>\n",
       "      <td>FFE80BAA</td>\n",
       "      <td>9228.0</td>\n",
       "      <td>126.915448</td>\n",
       "      <td>35.162657</td>\n",
       "      <td>289.0</td>\n",
       "      <td>0.0</td>\n",
       "      <td>78.0</td>\n",
       "      <td>-194.0</td>\n",
       "      <td>bus</td>\n",
       "      <td>4</td>\n",
       "      <td>NaN</td>\n",
       "    </tr>\n",
       "    <tr>\n",
       "      <th>9</th>\n",
       "      <td>V_220911_C_A_FFE80BAA_000433.csv</td>\n",
       "      <td>FFE80BAA</td>\n",
       "      <td>False</td>\n",
       "      <td>False</td>\n",
       "      <td>False</td>\n",
       "      <td>False</td>\n",
       "      <td>20220911153250</td>\n",
       "      <td>FFE80BAA</td>\n",
       "      <td>9228.0</td>\n",
       "      <td>126.915448</td>\n",
       "      <td>35.162657</td>\n",
       "      <td>289.0</td>\n",
       "      <td>0.0</td>\n",
       "      <td>78.0</td>\n",
       "      <td>0.0</td>\n",
       "      <td>bus</td>\n",
       "      <td>4</td>\n",
       "      <td>NaN</td>\n",
       "    </tr>\n",
       "  </tbody>\n",
       "</table>\n",
       "</div>"
      ],
      "text/plain": [
       "                               Path Annotation.Vehicle_ID Annotation.Turn  \\\n",
       "0  V_220911_C_A_FFE80BAA_000433.csv              FFE80BAA           False   \n",
       "1  V_220911_C_A_FFE80BAA_000433.csv              FFE80BAA           False   \n",
       "2  V_220911_C_A_FFE80BAA_000433.csv              FFE80BAA           False   \n",
       "3  V_220911_C_A_FFE80BAA_000433.csv              FFE80BAA           False   \n",
       "4  V_220911_C_A_FFE80BAA_000433.csv              FFE80BAA           False   \n",
       "5  V_220911_C_A_FFE80BAA_000433.csv              FFE80BAA           False   \n",
       "6  V_220911_C_A_FFE80BAA_000433.csv              FFE80BAA           False   \n",
       "7  V_220911_C_A_FFE80BAA_000433.csv              FFE80BAA           False   \n",
       "8  V_220911_C_A_FFE80BAA_000433.csv              FFE80BAA           False   \n",
       "9  V_220911_C_A_FFE80BAA_000433.csv              FFE80BAA           False   \n",
       "\n",
       "  Annotation.Lane Annotation.Speed  Annotation.Hazard      ISSUE_DATE  \\\n",
       "0           False            False              False  20220911153241   \n",
       "1           False            False              False  20220911153242   \n",
       "2           False            False              False  20220911153243   \n",
       "3           False            False              False  20220911153244   \n",
       "4           False            False              False  20220911153245   \n",
       "5           False            False              False  20220911153246   \n",
       "6           False            False              False  20220911153247   \n",
       "7           False            False              False  20220911153248   \n",
       "8           False            False              False  20220911153249   \n",
       "9           False            False              False  20220911153250   \n",
       "\n",
       "  VEHICLE_ID  VEHICLE_CLASS   LONGITUDE   LATITUDE  HEADING  SPEED  \\\n",
       "0   FFE80BAA         9228.0  126.916046  35.162495    287.0   38.0   \n",
       "1   FFE80BAA         9228.0  126.915924  35.162526    286.0   37.0   \n",
       "2   FFE80BAA         9228.0  126.915827  35.162551    287.0   34.0   \n",
       "3   FFE80BAA         9228.0  126.915727  35.162578    288.0   31.0   \n",
       "4   FFE80BAA         9228.0  126.915636  35.162603    288.0   29.0   \n",
       "5   FFE80BAA         9228.0  126.915555  35.162625    288.0   24.0   \n",
       "6   FFE80BAA         9228.0  126.915494  35.162643    290.0   16.0   \n",
       "7   FFE80BAA         9228.0  126.915459  35.162654    289.0    7.0   \n",
       "8   FFE80BAA         9228.0  126.915448  35.162657    289.0    0.0   \n",
       "9   FFE80BAA         9228.0  126.915448  35.162657    289.0    0.0   \n",
       "\n",
       "   BRAKE_STATUS  ACC_SEC VEHICLE_TYPE  CURRENT_LANE  Annotation.Index  \n",
       "0          78.0      0.0          bus             0               NaN  \n",
       "1          78.0    -28.0          bus             0               NaN  \n",
       "2          78.0    -56.0          bus             0               NaN  \n",
       "3          78.0   -111.0          bus             0               NaN  \n",
       "4          78.0    -83.0          bus             0               NaN  \n",
       "5          78.0   -111.0          bus             0               NaN  \n",
       "6          78.0   -194.0          bus             0               NaN  \n",
       "7          78.0   -222.0          bus             0               NaN  \n",
       "8          78.0   -194.0          bus             4               NaN  \n",
       "9          78.0      0.0          bus             4               NaN  "
      ]
     },
     "execution_count": 29,
     "metadata": {},
     "output_type": "execute_result"
    }
   ],
   "source": [
    "# 저장된 파일 불러오기\n",
    "df = pd.read_csv('merge.csv')\n",
    "df.head(10)"
   ]
  },
  {
   "cell_type": "code",
   "execution_count": 32,
   "metadata": {},
   "outputs": [
    {
     "data": {
      "text/html": [
       "<div>\n",
       "<style scoped>\n",
       "    .dataframe tbody tr th:only-of-type {\n",
       "        vertical-align: middle;\n",
       "    }\n",
       "\n",
       "    .dataframe tbody tr th {\n",
       "        vertical-align: top;\n",
       "    }\n",
       "\n",
       "    .dataframe thead th {\n",
       "        text-align: right;\n",
       "    }\n",
       "</style>\n",
       "<table border=\"1\" class=\"dataframe\">\n",
       "  <thead>\n",
       "    <tr style=\"text-align: right;\">\n",
       "      <th></th>\n",
       "      <th>Path</th>\n",
       "      <th>Vehicle_ID</th>\n",
       "      <th>Turn</th>\n",
       "      <th>Lane</th>\n",
       "      <th>Speed</th>\n",
       "      <th>Hazard</th>\n",
       "      <th>ISSUE_DATE</th>\n",
       "      <th>VEHICLE_ID</th>\n",
       "      <th>VEHICLE_CLASS</th>\n",
       "      <th>LONGITUDE</th>\n",
       "      <th>LATITUDE</th>\n",
       "      <th>HEADING</th>\n",
       "      <th>SPEED</th>\n",
       "      <th>BRAKE_STATUS</th>\n",
       "      <th>ACC_SEC</th>\n",
       "      <th>VEHICLE_TYPE</th>\n",
       "      <th>CURRENT_LANE</th>\n",
       "    </tr>\n",
       "  </thead>\n",
       "  <tbody>\n",
       "    <tr>\n",
       "      <th>0</th>\n",
       "      <td>V_220911_C_A_FFE80BAA_000433.csv</td>\n",
       "      <td>FFE80BAA</td>\n",
       "      <td>False</td>\n",
       "      <td>False</td>\n",
       "      <td>False</td>\n",
       "      <td>False</td>\n",
       "      <td>20220911153241</td>\n",
       "      <td>FFE80BAA</td>\n",
       "      <td>9228.0</td>\n",
       "      <td>126.916046</td>\n",
       "      <td>35.162495</td>\n",
       "      <td>287.0</td>\n",
       "      <td>38.0</td>\n",
       "      <td>78.0</td>\n",
       "      <td>0.0</td>\n",
       "      <td>bus</td>\n",
       "      <td>0</td>\n",
       "    </tr>\n",
       "    <tr>\n",
       "      <th>1</th>\n",
       "      <td>V_220911_C_A_FFE80BAA_000433.csv</td>\n",
       "      <td>FFE80BAA</td>\n",
       "      <td>False</td>\n",
       "      <td>False</td>\n",
       "      <td>False</td>\n",
       "      <td>False</td>\n",
       "      <td>20220911153242</td>\n",
       "      <td>FFE80BAA</td>\n",
       "      <td>9228.0</td>\n",
       "      <td>126.915924</td>\n",
       "      <td>35.162526</td>\n",
       "      <td>286.0</td>\n",
       "      <td>37.0</td>\n",
       "      <td>78.0</td>\n",
       "      <td>-28.0</td>\n",
       "      <td>bus</td>\n",
       "      <td>0</td>\n",
       "    </tr>\n",
       "    <tr>\n",
       "      <th>2</th>\n",
       "      <td>V_220911_C_A_FFE80BAA_000433.csv</td>\n",
       "      <td>FFE80BAA</td>\n",
       "      <td>False</td>\n",
       "      <td>False</td>\n",
       "      <td>False</td>\n",
       "      <td>False</td>\n",
       "      <td>20220911153243</td>\n",
       "      <td>FFE80BAA</td>\n",
       "      <td>9228.0</td>\n",
       "      <td>126.915827</td>\n",
       "      <td>35.162551</td>\n",
       "      <td>287.0</td>\n",
       "      <td>34.0</td>\n",
       "      <td>78.0</td>\n",
       "      <td>-56.0</td>\n",
       "      <td>bus</td>\n",
       "      <td>0</td>\n",
       "    </tr>\n",
       "    <tr>\n",
       "      <th>3</th>\n",
       "      <td>V_220911_C_A_FFE80BAA_000433.csv</td>\n",
       "      <td>FFE80BAA</td>\n",
       "      <td>False</td>\n",
       "      <td>False</td>\n",
       "      <td>False</td>\n",
       "      <td>False</td>\n",
       "      <td>20220911153244</td>\n",
       "      <td>FFE80BAA</td>\n",
       "      <td>9228.0</td>\n",
       "      <td>126.915727</td>\n",
       "      <td>35.162578</td>\n",
       "      <td>288.0</td>\n",
       "      <td>31.0</td>\n",
       "      <td>78.0</td>\n",
       "      <td>-111.0</td>\n",
       "      <td>bus</td>\n",
       "      <td>0</td>\n",
       "    </tr>\n",
       "    <tr>\n",
       "      <th>4</th>\n",
       "      <td>V_220911_C_A_FFE80BAA_000433.csv</td>\n",
       "      <td>FFE80BAA</td>\n",
       "      <td>False</td>\n",
       "      <td>False</td>\n",
       "      <td>False</td>\n",
       "      <td>False</td>\n",
       "      <td>20220911153245</td>\n",
       "      <td>FFE80BAA</td>\n",
       "      <td>9228.0</td>\n",
       "      <td>126.915636</td>\n",
       "      <td>35.162603</td>\n",
       "      <td>288.0</td>\n",
       "      <td>29.0</td>\n",
       "      <td>78.0</td>\n",
       "      <td>-83.0</td>\n",
       "      <td>bus</td>\n",
       "      <td>0</td>\n",
       "    </tr>\n",
       "    <tr>\n",
       "      <th>...</th>\n",
       "      <td>...</td>\n",
       "      <td>...</td>\n",
       "      <td>...</td>\n",
       "      <td>...</td>\n",
       "      <td>...</td>\n",
       "      <td>...</td>\n",
       "      <td>...</td>\n",
       "      <td>...</td>\n",
       "      <td>...</td>\n",
       "      <td>...</td>\n",
       "      <td>...</td>\n",
       "      <td>...</td>\n",
       "      <td>...</td>\n",
       "      <td>...</td>\n",
       "      <td>...</td>\n",
       "      <td>...</td>\n",
       "      <td>...</td>\n",
       "    </tr>\n",
       "    <tr>\n",
       "      <th>46130725</th>\n",
       "      <td>V_221008_C_A_FFE80B4C_000374.csv</td>\n",
       "      <td>FFE80B4C</td>\n",
       "      <td>False</td>\n",
       "      <td>False</td>\n",
       "      <td>False</td>\n",
       "      <td>False</td>\n",
       "      <td>20221008160145</td>\n",
       "      <td>FFE80B4C</td>\n",
       "      <td>9228.0</td>\n",
       "      <td>126.880411</td>\n",
       "      <td>35.161630</td>\n",
       "      <td>266.0</td>\n",
       "      <td>21.0</td>\n",
       "      <td>0.0</td>\n",
       "      <td>56.0</td>\n",
       "      <td>bus</td>\n",
       "      <td>0</td>\n",
       "    </tr>\n",
       "    <tr>\n",
       "      <th>46130726</th>\n",
       "      <td>V_221008_C_A_FFE80B4C_000374.csv</td>\n",
       "      <td>FFE80B4C</td>\n",
       "      <td>False</td>\n",
       "      <td>False</td>\n",
       "      <td>False</td>\n",
       "      <td>False</td>\n",
       "      <td>20221008160146</td>\n",
       "      <td>FFE80B4C</td>\n",
       "      <td>9228.0</td>\n",
       "      <td>126.880341</td>\n",
       "      <td>35.161628</td>\n",
       "      <td>270.0</td>\n",
       "      <td>23.0</td>\n",
       "      <td>0.0</td>\n",
       "      <td>83.0</td>\n",
       "      <td>bus</td>\n",
       "      <td>0</td>\n",
       "    </tr>\n",
       "    <tr>\n",
       "      <th>46130727</th>\n",
       "      <td>V_221008_C_A_FFE80B4C_000374.csv</td>\n",
       "      <td>FFE80B4C</td>\n",
       "      <td>False</td>\n",
       "      <td>False</td>\n",
       "      <td>False</td>\n",
       "      <td>False</td>\n",
       "      <td>20221008160147</td>\n",
       "      <td>FFE80B4C</td>\n",
       "      <td>9228.0</td>\n",
       "      <td>126.880263</td>\n",
       "      <td>35.161629</td>\n",
       "      <td>271.0</td>\n",
       "      <td>27.0</td>\n",
       "      <td>0.0</td>\n",
       "      <td>83.0</td>\n",
       "      <td>bus</td>\n",
       "      <td>0</td>\n",
       "    </tr>\n",
       "    <tr>\n",
       "      <th>46130728</th>\n",
       "      <td>V_221008_C_A_FFE80B4C_000374.csv</td>\n",
       "      <td>FFE80B4C</td>\n",
       "      <td>False</td>\n",
       "      <td>False</td>\n",
       "      <td>False</td>\n",
       "      <td>False</td>\n",
       "      <td>20221008160148</td>\n",
       "      <td>FFE80B4C</td>\n",
       "      <td>9228.0</td>\n",
       "      <td>126.880177</td>\n",
       "      <td>35.161633</td>\n",
       "      <td>272.0</td>\n",
       "      <td>29.0</td>\n",
       "      <td>0.0</td>\n",
       "      <td>56.0</td>\n",
       "      <td>bus</td>\n",
       "      <td>0</td>\n",
       "    </tr>\n",
       "    <tr>\n",
       "      <th>46130729</th>\n",
       "      <td>V_221008_C_A_FFE80B4C_000374.csv</td>\n",
       "      <td>FFE80B4C</td>\n",
       "      <td>False</td>\n",
       "      <td>False</td>\n",
       "      <td>False</td>\n",
       "      <td>False</td>\n",
       "      <td>20221008160149</td>\n",
       "      <td>FFE80B4C</td>\n",
       "      <td>9228.0</td>\n",
       "      <td>126.880083</td>\n",
       "      <td>35.161637</td>\n",
       "      <td>272.0</td>\n",
       "      <td>30.0</td>\n",
       "      <td>0.0</td>\n",
       "      <td>0.0</td>\n",
       "      <td>bus</td>\n",
       "      <td>0</td>\n",
       "    </tr>\n",
       "  </tbody>\n",
       "</table>\n",
       "<p>46130730 rows × 17 columns</p>\n",
       "</div>"
      ],
      "text/plain": [
       "                                      Path Vehicle_ID   Turn   Lane  Speed  \\\n",
       "0         V_220911_C_A_FFE80BAA_000433.csv   FFE80BAA  False  False  False   \n",
       "1         V_220911_C_A_FFE80BAA_000433.csv   FFE80BAA  False  False  False   \n",
       "2         V_220911_C_A_FFE80BAA_000433.csv   FFE80BAA  False  False  False   \n",
       "3         V_220911_C_A_FFE80BAA_000433.csv   FFE80BAA  False  False  False   \n",
       "4         V_220911_C_A_FFE80BAA_000433.csv   FFE80BAA  False  False  False   \n",
       "...                                    ...        ...    ...    ...    ...   \n",
       "46130725  V_221008_C_A_FFE80B4C_000374.csv   FFE80B4C  False  False  False   \n",
       "46130726  V_221008_C_A_FFE80B4C_000374.csv   FFE80B4C  False  False  False   \n",
       "46130727  V_221008_C_A_FFE80B4C_000374.csv   FFE80B4C  False  False  False   \n",
       "46130728  V_221008_C_A_FFE80B4C_000374.csv   FFE80B4C  False  False  False   \n",
       "46130729  V_221008_C_A_FFE80B4C_000374.csv   FFE80B4C  False  False  False   \n",
       "\n",
       "          Hazard      ISSUE_DATE VEHICLE_ID  VEHICLE_CLASS   LONGITUDE  \\\n",
       "0          False  20220911153241   FFE80BAA         9228.0  126.916046   \n",
       "1          False  20220911153242   FFE80BAA         9228.0  126.915924   \n",
       "2          False  20220911153243   FFE80BAA         9228.0  126.915827   \n",
       "3          False  20220911153244   FFE80BAA         9228.0  126.915727   \n",
       "4          False  20220911153245   FFE80BAA         9228.0  126.915636   \n",
       "...          ...             ...        ...            ...         ...   \n",
       "46130725   False  20221008160145   FFE80B4C         9228.0  126.880411   \n",
       "46130726   False  20221008160146   FFE80B4C         9228.0  126.880341   \n",
       "46130727   False  20221008160147   FFE80B4C         9228.0  126.880263   \n",
       "46130728   False  20221008160148   FFE80B4C         9228.0  126.880177   \n",
       "46130729   False  20221008160149   FFE80B4C         9228.0  126.880083   \n",
       "\n",
       "           LATITUDE  HEADING  SPEED  BRAKE_STATUS  ACC_SEC VEHICLE_TYPE  \\\n",
       "0         35.162495    287.0   38.0          78.0      0.0          bus   \n",
       "1         35.162526    286.0   37.0          78.0    -28.0          bus   \n",
       "2         35.162551    287.0   34.0          78.0    -56.0          bus   \n",
       "3         35.162578    288.0   31.0          78.0   -111.0          bus   \n",
       "4         35.162603    288.0   29.0          78.0    -83.0          bus   \n",
       "...             ...      ...    ...           ...      ...          ...   \n",
       "46130725  35.161630    266.0   21.0           0.0     56.0          bus   \n",
       "46130726  35.161628    270.0   23.0           0.0     83.0          bus   \n",
       "46130727  35.161629    271.0   27.0           0.0     83.0          bus   \n",
       "46130728  35.161633    272.0   29.0           0.0     56.0          bus   \n",
       "46130729  35.161637    272.0   30.0           0.0      0.0          bus   \n",
       "\n",
       "          CURRENT_LANE  \n",
       "0                    0  \n",
       "1                    0  \n",
       "2                    0  \n",
       "3                    0  \n",
       "4                    0  \n",
       "...                ...  \n",
       "46130725             0  \n",
       "46130726             0  \n",
       "46130727             0  \n",
       "46130728             0  \n",
       "46130729             0  \n",
       "\n",
       "[46130730 rows x 17 columns]"
      ]
     },
     "execution_count": 32,
     "metadata": {},
     "output_type": "execute_result"
    }
   ],
   "source": [
    "# 칼럼명 변경\n",
    "df.columns = [col.replace(\"Annotation.\", \"\") for col in df.columns]\n",
    "df.drop(columns=['Index'])"
   ]
  },
  {
   "cell_type": "code",
   "execution_count": 34,
   "metadata": {},
   "outputs": [
    {
     "data": {
      "text/plain": [
       "0          2022-09-11 15:32:41\n",
       "1          2022-09-11 15:32:42\n",
       "2          2022-09-11 15:32:43\n",
       "3          2022-09-11 15:32:44\n",
       "4          2022-09-11 15:32:45\n",
       "                   ...        \n",
       "46130725   2022-10-08 16:01:45\n",
       "46130726   2022-10-08 16:01:46\n",
       "46130727   2022-10-08 16:01:47\n",
       "46130728   2022-10-08 16:01:48\n",
       "46130729   2022-10-08 16:01:49\n",
       "Name: ISSUE_DATE, Length: 46130730, dtype: datetime64[ns]"
      ]
     },
     "execution_count": 34,
     "metadata": {},
     "output_type": "execute_result"
    }
   ],
   "source": [
    "# ISSUE_DATE 칼럼을 DateTime 형식으로 변환\n",
    "df['ISSUE_DATE'] = pd.to_datetime(df['ISSUE_DATE'], format='%Y%m%d%H%M%S')\n",
    "df['ISSUE_DATE']"
   ]
  },
  {
   "cell_type": "code",
   "execution_count": 36,
   "metadata": {},
   "outputs": [],
   "source": [
    "df.to_csv('merge.csv', index=False)"
   ]
  }
 ],
 "metadata": {
  "kernelspec": {
   "display_name": "Python 3",
   "language": "python",
   "name": "python3"
  },
  "language_info": {
   "codemirror_mode": {
    "name": "ipython",
    "version": 3
   },
   "file_extension": ".py",
   "mimetype": "text/x-python",
   "name": "python",
   "nbconvert_exporter": "python",
   "pygments_lexer": "ipython3",
   "version": "3.10.11"
  }
 },
 "nbformat": 4,
 "nbformat_minor": 2
}
